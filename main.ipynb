{
 "cells": [
  {
   "cell_type": "code",
   "execution_count": 235,
   "id": "db0acf1a-1391-438c-9d58-f3283a685862",
   "metadata": {},
   "outputs": [],
   "source": [
    "import pandas as pd\n",
    "import numpy as  np\n",
    "from sqlalchemy import create_engine,inspect,func\n",
    "from sqlalchemy.ext.automap import automap_base\n",
    "from sqlalchemy.orm import Session\n",
    "from scipy import stats\n",
    "import calendar\n",
    "\n",
    "import matplotlib.pyplot as plt"
   ]
  },
  {
   "cell_type": "code",
   "execution_count": 2,
   "id": "1870b18f-0ec9-4f0c-a782-412d1ed6f665",
   "metadata": {},
   "outputs": [
    {
     "data": {
      "text/plain": [
       "['measurement', 'station']"
      ]
     },
     "execution_count": 2,
     "metadata": {},
     "output_type": "execute_result"
    }
   ],
   "source": [
    "# Read in both data tables to pandas\n",
    "engine = create_engine(\"sqlite:///Data/hawaii.sqlite\")\n",
    "Base = automap_base()\n",
    "\n",
    "contents = inspect(engine)\n",
    "Base.prepare(engine,reflect = True)\n",
    "Base.classes.keys()"
   ]
  },
  {
   "cell_type": "code",
   "execution_count": 131,
   "id": "31a9b655-edde-49ba-98d8-03c42f501e92",
   "metadata": {},
   "outputs": [
    {
     "data": {
      "text/html": [
       "<div>\n",
       "<style scoped>\n",
       "    .dataframe tbody tr th:only-of-type {\n",
       "        vertical-align: middle;\n",
       "    }\n",
       "\n",
       "    .dataframe tbody tr th {\n",
       "        vertical-align: top;\n",
       "    }\n",
       "\n",
       "    .dataframe thead th {\n",
       "        text-align: right;\n",
       "    }\n",
       "</style>\n",
       "<table border=\"1\" class=\"dataframe\">\n",
       "  <thead>\n",
       "    <tr style=\"text-align: right;\">\n",
       "      <th></th>\n",
       "      <th>id</th>\n",
       "      <th>station</th>\n",
       "      <th>date</th>\n",
       "      <th>prcp</th>\n",
       "      <th>tobs</th>\n",
       "    </tr>\n",
       "  </thead>\n",
       "  <tbody>\n",
       "    <tr>\n",
       "      <th>0</th>\n",
       "      <td>1</td>\n",
       "      <td>USC00519397</td>\n",
       "      <td>2010-01-01</td>\n",
       "      <td>0.08</td>\n",
       "      <td>65.0</td>\n",
       "    </tr>\n",
       "    <tr>\n",
       "      <th>1</th>\n",
       "      <td>2</td>\n",
       "      <td>USC00519397</td>\n",
       "      <td>2010-01-02</td>\n",
       "      <td>0.00</td>\n",
       "      <td>63.0</td>\n",
       "    </tr>\n",
       "    <tr>\n",
       "      <th>2</th>\n",
       "      <td>3</td>\n",
       "      <td>USC00519397</td>\n",
       "      <td>2010-01-03</td>\n",
       "      <td>0.00</td>\n",
       "      <td>74.0</td>\n",
       "    </tr>\n",
       "    <tr>\n",
       "      <th>3</th>\n",
       "      <td>4</td>\n",
       "      <td>USC00519397</td>\n",
       "      <td>2010-01-04</td>\n",
       "      <td>0.00</td>\n",
       "      <td>76.0</td>\n",
       "    </tr>\n",
       "    <tr>\n",
       "      <th>4</th>\n",
       "      <td>5</td>\n",
       "      <td>USC00519397</td>\n",
       "      <td>2010-01-06</td>\n",
       "      <td>NaN</td>\n",
       "      <td>73.0</td>\n",
       "    </tr>\n",
       "    <tr>\n",
       "      <th>...</th>\n",
       "      <td>...</td>\n",
       "      <td>...</td>\n",
       "      <td>...</td>\n",
       "      <td>...</td>\n",
       "      <td>...</td>\n",
       "    </tr>\n",
       "    <tr>\n",
       "      <th>19545</th>\n",
       "      <td>19546</td>\n",
       "      <td>USC00516128</td>\n",
       "      <td>2017-08-19</td>\n",
       "      <td>0.09</td>\n",
       "      <td>71.0</td>\n",
       "    </tr>\n",
       "    <tr>\n",
       "      <th>19546</th>\n",
       "      <td>19547</td>\n",
       "      <td>USC00516128</td>\n",
       "      <td>2017-08-20</td>\n",
       "      <td>NaN</td>\n",
       "      <td>78.0</td>\n",
       "    </tr>\n",
       "    <tr>\n",
       "      <th>19547</th>\n",
       "      <td>19548</td>\n",
       "      <td>USC00516128</td>\n",
       "      <td>2017-08-21</td>\n",
       "      <td>0.56</td>\n",
       "      <td>76.0</td>\n",
       "    </tr>\n",
       "    <tr>\n",
       "      <th>19548</th>\n",
       "      <td>19549</td>\n",
       "      <td>USC00516128</td>\n",
       "      <td>2017-08-22</td>\n",
       "      <td>0.50</td>\n",
       "      <td>76.0</td>\n",
       "    </tr>\n",
       "    <tr>\n",
       "      <th>19549</th>\n",
       "      <td>19550</td>\n",
       "      <td>USC00516128</td>\n",
       "      <td>2017-08-23</td>\n",
       "      <td>0.45</td>\n",
       "      <td>76.0</td>\n",
       "    </tr>\n",
       "  </tbody>\n",
       "</table>\n",
       "<p>19550 rows × 5 columns</p>\n",
       "</div>"
      ],
      "text/plain": [
       "          id      station        date  prcp  tobs\n",
       "0          1  USC00519397  2010-01-01  0.08  65.0\n",
       "1          2  USC00519397  2010-01-02  0.00  63.0\n",
       "2          3  USC00519397  2010-01-03  0.00  74.0\n",
       "3          4  USC00519397  2010-01-04  0.00  76.0\n",
       "4          5  USC00519397  2010-01-06   NaN  73.0\n",
       "...      ...          ...         ...   ...   ...\n",
       "19545  19546  USC00516128  2017-08-19  0.09  71.0\n",
       "19546  19547  USC00516128  2017-08-20   NaN  78.0\n",
       "19547  19548  USC00516128  2017-08-21  0.56  76.0\n",
       "19548  19549  USC00516128  2017-08-22  0.50  76.0\n",
       "19549  19550  USC00516128  2017-08-23  0.45  76.0\n",
       "\n",
       "[19550 rows x 5 columns]"
      ]
     },
     "metadata": {},
     "output_type": "display_data"
    },
    {
     "data": {
      "text/html": [
       "<div>\n",
       "<style scoped>\n",
       "    .dataframe tbody tr th:only-of-type {\n",
       "        vertical-align: middle;\n",
       "    }\n",
       "\n",
       "    .dataframe tbody tr th {\n",
       "        vertical-align: top;\n",
       "    }\n",
       "\n",
       "    .dataframe thead th {\n",
       "        text-align: right;\n",
       "    }\n",
       "</style>\n",
       "<table border=\"1\" class=\"dataframe\">\n",
       "  <thead>\n",
       "    <tr style=\"text-align: right;\">\n",
       "      <th></th>\n",
       "      <th>id</th>\n",
       "      <th>station</th>\n",
       "      <th>name</th>\n",
       "      <th>latitude</th>\n",
       "      <th>longitude</th>\n",
       "      <th>elevation</th>\n",
       "    </tr>\n",
       "  </thead>\n",
       "  <tbody>\n",
       "    <tr>\n",
       "      <th>0</th>\n",
       "      <td>1</td>\n",
       "      <td>USC00519397</td>\n",
       "      <td>WAIKIKI 717.2, HI US</td>\n",
       "      <td>21.27160</td>\n",
       "      <td>-157.81680</td>\n",
       "      <td>3.0</td>\n",
       "    </tr>\n",
       "    <tr>\n",
       "      <th>1</th>\n",
       "      <td>2</td>\n",
       "      <td>USC00513117</td>\n",
       "      <td>KANEOHE 838.1, HI US</td>\n",
       "      <td>21.42340</td>\n",
       "      <td>-157.80150</td>\n",
       "      <td>14.6</td>\n",
       "    </tr>\n",
       "    <tr>\n",
       "      <th>2</th>\n",
       "      <td>3</td>\n",
       "      <td>USC00514830</td>\n",
       "      <td>KUALOA RANCH HEADQUARTERS 886.9, HI US</td>\n",
       "      <td>21.52130</td>\n",
       "      <td>-157.83740</td>\n",
       "      <td>7.0</td>\n",
       "    </tr>\n",
       "    <tr>\n",
       "      <th>3</th>\n",
       "      <td>4</td>\n",
       "      <td>USC00517948</td>\n",
       "      <td>PEARL CITY, HI US</td>\n",
       "      <td>21.39340</td>\n",
       "      <td>-157.97510</td>\n",
       "      <td>11.9</td>\n",
       "    </tr>\n",
       "    <tr>\n",
       "      <th>4</th>\n",
       "      <td>5</td>\n",
       "      <td>USC00518838</td>\n",
       "      <td>UPPER WAHIAWA 874.3, HI US</td>\n",
       "      <td>21.49920</td>\n",
       "      <td>-158.01110</td>\n",
       "      <td>306.6</td>\n",
       "    </tr>\n",
       "    <tr>\n",
       "      <th>5</th>\n",
       "      <td>6</td>\n",
       "      <td>USC00519523</td>\n",
       "      <td>WAIMANALO EXPERIMENTAL FARM, HI US</td>\n",
       "      <td>21.33556</td>\n",
       "      <td>-157.71139</td>\n",
       "      <td>19.5</td>\n",
       "    </tr>\n",
       "    <tr>\n",
       "      <th>6</th>\n",
       "      <td>7</td>\n",
       "      <td>USC00519281</td>\n",
       "      <td>WAIHEE 837.5, HI US</td>\n",
       "      <td>21.45167</td>\n",
       "      <td>-157.84889</td>\n",
       "      <td>32.9</td>\n",
       "    </tr>\n",
       "    <tr>\n",
       "      <th>7</th>\n",
       "      <td>8</td>\n",
       "      <td>USC00511918</td>\n",
       "      <td>HONOLULU OBSERVATORY 702.2, HI US</td>\n",
       "      <td>21.31520</td>\n",
       "      <td>-157.99920</td>\n",
       "      <td>0.9</td>\n",
       "    </tr>\n",
       "    <tr>\n",
       "      <th>8</th>\n",
       "      <td>9</td>\n",
       "      <td>USC00516128</td>\n",
       "      <td>MANOA LYON ARBO 785.2, HI US</td>\n",
       "      <td>21.33310</td>\n",
       "      <td>-157.80250</td>\n",
       "      <td>152.4</td>\n",
       "    </tr>\n",
       "  </tbody>\n",
       "</table>\n",
       "</div>"
      ],
      "text/plain": [
       "   id      station                                    name  latitude  \\\n",
       "0   1  USC00519397                    WAIKIKI 717.2, HI US  21.27160   \n",
       "1   2  USC00513117                    KANEOHE 838.1, HI US  21.42340   \n",
       "2   3  USC00514830  KUALOA RANCH HEADQUARTERS 886.9, HI US  21.52130   \n",
       "3   4  USC00517948                       PEARL CITY, HI US  21.39340   \n",
       "4   5  USC00518838              UPPER WAHIAWA 874.3, HI US  21.49920   \n",
       "5   6  USC00519523      WAIMANALO EXPERIMENTAL FARM, HI US  21.33556   \n",
       "6   7  USC00519281                     WAIHEE 837.5, HI US  21.45167   \n",
       "7   8  USC00511918       HONOLULU OBSERVATORY 702.2, HI US  21.31520   \n",
       "8   9  USC00516128            MANOA LYON ARBO 785.2, HI US  21.33310   \n",
       "\n",
       "   longitude  elevation  \n",
       "0 -157.81680        3.0  \n",
       "1 -157.80150       14.6  \n",
       "2 -157.83740        7.0  \n",
       "3 -157.97510       11.9  \n",
       "4 -158.01110      306.6  \n",
       "5 -157.71139       19.5  \n",
       "6 -157.84889       32.9  \n",
       "7 -157.99920        0.9  \n",
       "8 -157.80250      152.4  "
      ]
     },
     "metadata": {},
     "output_type": "display_data"
    }
   ],
   "source": [
    "measurement_df = pd.read_sql(\"SELECT * FROM measurement\",con = engine)\n",
    "station_df = pd.read_sql(\"SELECT * FROM station\",con = engine)\n",
    "\n",
    "#Verify data import\n",
    "display(measurement_df)\n",
    "display(station_df)"
   ]
  },
  {
   "cell_type": "code",
   "execution_count": 256,
   "id": "965c292d-d124-413d-acf2-026a98622103",
   "metadata": {},
   "outputs": [
    {
     "data": {
      "text/plain": [
       "id           int64\n",
       "station     object\n",
       "date        object\n",
       "prcp       float64\n",
       "tobs       float64\n",
       "dtype: object"
      ]
     },
     "metadata": {},
     "output_type": "display_data"
    },
    {
     "name": "stdout",
     "output_type": "stream",
     "text": [
      "\n"
     ]
    },
    {
     "data": {
      "text/plain": [
       "id         19550\n",
       "station    19550\n",
       "date       19550\n",
       "prcp       18103\n",
       "tobs       19550\n",
       "dtype: int64"
      ]
     },
     "metadata": {},
     "output_type": "display_data"
    }
   ],
   "source": [
    "# Check data types and look for null values,\n",
    "# null values observed for precipitation\n",
    "display(measurement_df.dtypes)\n",
    "print('')\n",
    "display(measurement_df.count())"
   ]
  },
  {
   "cell_type": "markdown",
   "id": "f5aa083a-9cce-4c6c-926d-af0a6eb0acdc",
   "metadata": {},
   "source": [
    "## Precipitation Analysis"
   ]
  },
  {
   "cell_type": "code",
   "execution_count": 276,
   "id": "421ff4ce-a962-4b71-8526-8723be3554e3",
   "metadata": {},
   "outputs": [],
   "source": [
    "def cumulative_rainfall(date):\n",
    "    \"\"\"Returns summary statistics and visualizes the last year of precipitation data\n",
    "        Args:\n",
    "            date (str): select the year ending in this date, format is '%Y-%m-%d' (YYYY-MM-DD)\n",
    "       Return:\n",
    "           Summary statistics on the data set, and a bar chart generated using pandas with matplotlib\n",
    "    \"\"\"\n",
    "    def prcp_query(date):\n",
    "        #Query the sqlite database using pandas, return one year of prcp data from all stations\n",
    "        return (pd.read_sql(\"\"\"\n",
    "        SELECT date AS Date, prcp As Precipitation\n",
    "        FROM measurement \n",
    "        WHERE Date > DATE(:date, '-1 years')\n",
    "        ORDER BY Date ASC;\n",
    "                               \"\"\", params = {'date':date}, con = engine)\n",
    "                .dropna().set_index(\"Date\")\n",
    "               )\n",
    "                \n",
    "    def prcp_plot(prcp_df):\n",
    "        #plot the data using pandas and imporve the formating with matplotlib\n",
    "        prcp_df.plot()\n",
    "        \n",
    "    prcp_df = prcp_query(date)\n",
    "    \n",
    "    #return the visualization and summary statistics for the data\n",
    "    return prcp_plot(prcp_df), display(prcp_df.describe())"
   ]
  },
  {
   "cell_type": "code",
   "execution_count": 277,
   "id": "436bdc35-2f26-4905-9ba3-65b44425a835",
   "metadata": {},
   "outputs": [
    {
     "data": {
      "text/html": [
       "<div>\n",
       "<style scoped>\n",
       "    .dataframe tbody tr th:only-of-type {\n",
       "        vertical-align: middle;\n",
       "    }\n",
       "\n",
       "    .dataframe tbody tr th {\n",
       "        vertical-align: top;\n",
       "    }\n",
       "\n",
       "    .dataframe thead th {\n",
       "        text-align: right;\n",
       "    }\n",
       "</style>\n",
       "<table border=\"1\" class=\"dataframe\">\n",
       "  <thead>\n",
       "    <tr style=\"text-align: right;\">\n",
       "      <th></th>\n",
       "      <th>Precipitation</th>\n",
       "    </tr>\n",
       "  </thead>\n",
       "  <tbody>\n",
       "    <tr>\n",
       "      <th>count</th>\n",
       "      <td>2015.000000</td>\n",
       "    </tr>\n",
       "    <tr>\n",
       "      <th>mean</th>\n",
       "      <td>0.176462</td>\n",
       "    </tr>\n",
       "    <tr>\n",
       "      <th>std</th>\n",
       "      <td>0.460288</td>\n",
       "    </tr>\n",
       "    <tr>\n",
       "      <th>min</th>\n",
       "      <td>0.000000</td>\n",
       "    </tr>\n",
       "    <tr>\n",
       "      <th>25%</th>\n",
       "      <td>0.000000</td>\n",
       "    </tr>\n",
       "    <tr>\n",
       "      <th>50%</th>\n",
       "      <td>0.020000</td>\n",
       "    </tr>\n",
       "    <tr>\n",
       "      <th>75%</th>\n",
       "      <td>0.130000</td>\n",
       "    </tr>\n",
       "    <tr>\n",
       "      <th>max</th>\n",
       "      <td>6.700000</td>\n",
       "    </tr>\n",
       "  </tbody>\n",
       "</table>\n",
       "</div>"
      ],
      "text/plain": [
       "       Precipitation\n",
       "count    2015.000000\n",
       "mean        0.176462\n",
       "std         0.460288\n",
       "min         0.000000\n",
       "25%         0.000000\n",
       "50%         0.020000\n",
       "75%         0.130000\n",
       "max         6.700000"
      ]
     },
     "metadata": {},
     "output_type": "display_data"
    },
    {
     "data": {
      "text/plain": [
       "(None, None)"
      ]
     },
     "execution_count": 277,
     "metadata": {},
     "output_type": "execute_result"
    },
    {
     "data": {
      "image/png": "[encoded data removed]",
      "text/plain": [
       "<Figure size 432x288 with 1 Axes>"
      ]
     },
     "metadata": {
      "needs_background": "light"
     },
     "output_type": "display_data"
    }
   ],
   "source": [
    "cumulative_rainfall('2017-08-23')"
   ]
  },
  {
   "cell_type": "markdown",
   "id": "c7ef10d9-06e4-42c1-91ae-59bbac1752c8",
   "metadata": {},
   "source": [
    "## Station Analysis"
   ]
  },
  {
   "cell_type": "code",
   "execution_count": 12,
   "id": "61ca6e2b-254b-4392-a397-7fff1315b5d5",
   "metadata": {},
   "outputs": [
    {
     "data": {
      "text/plain": [
       "9"
      ]
     },
     "execution_count": 12,
     "metadata": {},
     "output_type": "execute_result"
    }
   ],
   "source": [
    "station_df[\"station\"].count()"
   ]
  },
  {
   "cell_type": "code",
   "execution_count": 13,
   "id": "2cc8c6dd-22bc-4458-ab98-7f90b0e89a68",
   "metadata": {},
   "outputs": [
    {
     "data": {
      "text/plain": [
       "['USC00519281']"
      ]
     },
     "metadata": {},
     "output_type": "display_data"
    }
   ],
   "source": [
    "#Query most active station\n",
    "\n",
    "ma = list(np.ravel(pd.read_sql(\"\"\"\n",
    "SELECT station\n",
    "FROM measurement\n",
    "GROUP BY station\n",
    "ORDER BY count(prcp) DESC\n",
    "LIMIT 1;\n",
    "\"\"\",con = engine)))\n",
    "display(ma)"
   ]
  },
  {
   "cell_type": "code",
   "execution_count": 14,
   "id": "51c32732-926a-42ac-a3d5-9411c6c41917",
   "metadata": {},
   "outputs": [
    {
     "data": {
      "text/html": [
       "<div>\n",
       "<style scoped>\n",
       "    .dataframe tbody tr th:only-of-type {\n",
       "        vertical-align: middle;\n",
       "    }\n",
       "\n",
       "    .dataframe tbody tr th {\n",
       "        vertical-align: top;\n",
       "    }\n",
       "\n",
       "    .dataframe thead th {\n",
       "        text-align: right;\n",
       "    }\n",
       "</style>\n",
       "<table border=\"1\" class=\"dataframe\">\n",
       "  <thead>\n",
       "    <tr style=\"text-align: right;\">\n",
       "      <th></th>\n",
       "      <th>Temperature</th>\n",
       "    </tr>\n",
       "  </thead>\n",
       "  <tbody>\n",
       "    <tr>\n",
       "      <th>0</th>\n",
       "      <td>77.0</td>\n",
       "    </tr>\n",
       "    <tr>\n",
       "      <th>1</th>\n",
       "      <td>80.0</td>\n",
       "    </tr>\n",
       "    <tr>\n",
       "      <th>2</th>\n",
       "      <td>80.0</td>\n",
       "    </tr>\n",
       "    <tr>\n",
       "      <th>3</th>\n",
       "      <td>75.0</td>\n",
       "    </tr>\n",
       "    <tr>\n",
       "      <th>4</th>\n",
       "      <td>73.0</td>\n",
       "    </tr>\n",
       "    <tr>\n",
       "      <th>...</th>\n",
       "      <td>...</td>\n",
       "    </tr>\n",
       "    <tr>\n",
       "      <th>346</th>\n",
       "      <td>77.0</td>\n",
       "    </tr>\n",
       "    <tr>\n",
       "      <th>347</th>\n",
       "      <td>77.0</td>\n",
       "    </tr>\n",
       "    <tr>\n",
       "      <th>348</th>\n",
       "      <td>76.0</td>\n",
       "    </tr>\n",
       "    <tr>\n",
       "      <th>349</th>\n",
       "      <td>76.0</td>\n",
       "    </tr>\n",
       "    <tr>\n",
       "      <th>350</th>\n",
       "      <td>79.0</td>\n",
       "    </tr>\n",
       "  </tbody>\n",
       "</table>\n",
       "<p>351 rows × 1 columns</p>\n",
       "</div>"
      ],
      "text/plain": [
       "     Temperature\n",
       "0           77.0\n",
       "1           80.0\n",
       "2           80.0\n",
       "3           75.0\n",
       "4           73.0\n",
       "..           ...\n",
       "346         77.0\n",
       "347         77.0\n",
       "348         76.0\n",
       "349         76.0\n",
       "350         79.0\n",
       "\n",
       "[351 rows x 1 columns]"
      ]
     },
     "metadata": {},
     "output_type": "display_data"
    }
   ],
   "source": [
    "# Query last year of temperature data for most active station\n",
    "activestation_data = pd.read_sql(\"\"\"\n",
    "SELECT tobs AS Temperature\n",
    "FROM  measurement\n",
    "WHERE Date > DATE('2016-08-23') AND station = :ma\"\"\",params = {\"ma\":ma[0]}, con = engine)\n",
    "display(activestation_data)"
   ]
  },
  {
   "cell_type": "code",
   "execution_count": 15,
   "id": "231dc7c8-1407-48f0-a5cb-8d19cf787b47",
   "metadata": {},
   "outputs": [
    {
     "data": {
      "text/plain": [
       "<AxesSubplot:ylabel='Frequency'>"
      ]
     },
     "execution_count": 15,
     "metadata": {},
     "output_type": "execute_result"
    },
    {
     "data": {
      "image/png": "[encoded data removed]",
      "text/plain": [
       "<Figure size 432x288 with 1 Axes>"
      ]
     },
     "metadata": {
      "needs_background": "light"
     },
     "output_type": "display_data"
    }
   ],
   "source": [
    "activestation_data.plot.hist(bins = 12)"
   ]
  },
  {
   "cell_type": "markdown",
   "id": "d56ff7e5-444b-4d39-abae-8813063b4dd6",
   "metadata": {},
   "source": [
    "## Temperature Analysis"
   ]
  },
  {
   "cell_type": "code",
   "execution_count": 252,
   "id": "0409f20d-4f2f-400e-8411-4c72d916e25f",
   "metadata": {},
   "outputs": [],
   "source": [
    "def monthly_comparison(month1,month2):\n",
    "    \"\"\" Use a paired t-test to determine if there is a statistical differnce in observed temperature between two months\n",
    "        Args:\n",
    "            month1 (str): month in the format '%m' MM\n",
    "            month2 (str): month in the format '%m' MM\n",
    "        Returns:\n",
    "            Interprion of the t-test results for a 95% confidence interval\n",
    "            Calculated p-value\n",
    "    \"\"\"\n",
    "    \n",
    "    def query_month(month):\n",
    "        #Query the sqlite database using pandas, return all data for the specified month\n",
    "        month_data = pd.read_sql(\"\"\"\n",
    "        SELECT date, tobs, station\n",
    "        FROM measurement\n",
    "        WHERE strftime(\"%m\",date) = :month\n",
    "        \"\"\",params={'month':month},con = engine)\n",
    "        \n",
    "        # Add a cumulative count of each time a station appears. This will be used to form a primary key\n",
    "        month_data['cc'] = month_data.groupby('station').cumcount()\n",
    "        return month_data\n",
    "    \n",
    "    def compare(month1_data,month2_data):\n",
    "        # Determine 'position' of each dataset for the merge, makes sure there are no null values created\n",
    "        if len(month1_data) > len(month2_data):\n",
    "            leftdata = month2_data\n",
    "            rightdata = month1_data\n",
    "        else:\n",
    "            leftdata = month1_data\n",
    "            rightdata = month2_data\n",
    "        \n",
    "        #merge the data to create equal length data sets for the t-test\n",
    "        return pd.merge(leftdata,rightdata, on=['station','cc'],how = 'left').drop('cc',1)\n",
    "    \n",
    "    def interpret_ttest(temps_merge):\n",
    "        #paired t-test using scipy.stats on the merged data\n",
    "        results = stats.ttest_rel(temps_merge['tobs_x'],temps_merge['tobs_y'])\n",
    "        \n",
    "        # translate integer month into month name for output\n",
    "        month_dict = {'01':'January','02':'February','03':'March','04':'April','05':'May','06':'June',\n",
    "                     '07':'July','08':'August','09':'September','10':'October','11':'November','12':'December'}\n",
    "        \n",
    "        # Separate outputs for each interpretation of t-test results\n",
    "        if results[1] < 0.05:\n",
    "            return print(f'''\n",
    "Using a 95% confidence interval,\n",
    "there is a difference in mean temperatures for {month_dict[month1]} and {month_dict[month2]}\n",
    "p-value: {results[1]}''')\n",
    "        else:\n",
    "            return print(f'''\n",
    "Using a 95% confidence interval,\n",
    "there is no difference in mean temperatures for {month_dict[month1]} and {month_dict[month2]}\n",
    "p-value: {results[1]}''')\n",
    "        \n",
    "    month1_data = query_month(month1)\n",
    "    month2_data = query_month(month2)\n",
    "    temps_merge = compare(month1_data,month2_data)\n",
    "    \n",
    "    return interpret_ttest(temps_merge)"
   ]
  },
  {
   "cell_type": "code",
   "execution_count": 253,
   "id": "812c11ef-8013-47b8-a4bb-a3d69ce52af7",
   "metadata": {},
   "outputs": [
    {
     "name": "stdout",
     "output_type": "stream",
     "text": [
      "Using a 95% confidence interval,\n",
      "there is a difference in mean temperatures for June and December\n",
      "p-value: 5.1149843653202015e-169\n"
     ]
    }
   ],
   "source": [
    "monthly_comparison('06','12')"
   ]
  },
  {
   "cell_type": "markdown",
   "id": "7ac9d2cd-258c-45cb-9dc9-5f158dd7179b",
   "metadata": {},
   "source": [
    "### Temperature Analysis II"
   ]
  },
  {
   "cell_type": "code",
   "execution_count": 21,
   "id": "0c47d9c4-f868-4f74-88e4-48cc9475b4a3",
   "metadata": {},
   "outputs": [],
   "source": [
    "Measurement = Base.classes.measurement\n",
    "session = Session(engine)"
   ]
  },
  {
   "cell_type": "code",
   "execution_count": 197,
   "id": "6bad6964-c1d2-45b1-ab2c-5968c5a7f6e2",
   "metadata": {},
   "outputs": [],
   "source": [
    "def avg_temp(start_date,end_date):\n",
    "    \n",
    "    # calc_temps was modified from starter code provided with the challenge\n",
    "    def calc_temps(start_date,end_date):\n",
    "        \"\"\"Returns temperature statistics for a specifieid date range\n",
    "        Args:\n",
    "            start_date (string): A date string in the format ''%Y-%m-%d' 'YYYY-MM-DD'\n",
    "            end_date (string): A date string in the format ''%Y-%m-%d' 'YYYY-MM-DD'\n",
    "        Returns:\n",
    "            TMIN, TAVG, and TMAX\n",
    "        \"\"\"\n",
    "        return list(np.ravel((\n",
    "            session.query(func.min(Measurement.tobs),func.avg(Measurement.tobs),func.max(Measurement.tobs))\n",
    "            .filter(Measurement.date >= start_date)\n",
    "            .filter(Measurement.date <= end_date)).all()\n",
    "        ))\n",
    "\n",
    "    def plot_temps(temp_stats):\n",
    "        # Use matplotlib to generate a barplot with error bar for average temperature\n",
    "        plt.bar(10,temp_stats[1],yerr=((temp_stats[2]-temp_stats[0])/2))\n",
    "        \n",
    "    temp_stats = calc_temps(start_date,end_date)\n",
    "    \n",
    "    return plot_temps(temp_stats)"
   ]
  },
  {
   "cell_type": "code",
   "execution_count": 199,
   "id": "1b1c5d37-a9c3-4906-b6f0-5aabecc74e32",
   "metadata": {},
   "outputs": [
    {
     "data": {
      "image/png": "[encoded data removed]",
      "text/plain": [
       "<Figure size 432x288 with 1 Axes>"
      ]
     },
     "metadata": {
      "needs_background": "light"
     },
     "output_type": "display_data"
    }
   ],
   "source": [
    "avg_temp('2015-02-14','2015-03-01')"
   ]
  },
  {
   "cell_type": "markdown",
   "id": "01a906ce-af40-42ad-a406-1e275b81ae95",
   "metadata": {},
   "source": [
    "## Cumulative Rainfall\n"
   ]
  },
  {
   "cell_type": "code",
   "execution_count": 254,
   "id": "1f6d6dce-5cbd-40c1-9b7a-c324415894ef",
   "metadata": {},
   "outputs": [],
   "source": [
    "def annual_precip(date):\n",
    "    \"\"\"Determine the cumulative rainfall over the previous year for each station\n",
    "        Args:\n",
    "            date (str): returndata for one year prior to this date, format '%Y-%m-%d' ('YYYY-MM-DD')\n",
    "        Return:\n",
    "            pandas dataframe of cumulative rainfall totals for each station\n",
    "    \"\"\"\n",
    "    # Query the sqlite database using pandas, join data from multiple tables\n",
    "    return pd.read_sql(\"\"\"\n",
    "    SELECT m.station AS Station, SUM(m.prcp) As Total_Precipitation, s.latitude, s.longitude, s.elevation\n",
    "    FROM measurement AS m \n",
    "    INNER JOIN station AS s ON m.station = s.station\n",
    "    WHERE m.date > DATE(:date, '-1 years')\n",
    "    GROUP BY m.station\n",
    "    ORDER BY Total_Precipitation DESC;\n",
    "                           \"\"\",params ={'date':date},con = engine).set_index('Station')"
   ]
  },
  {
   "cell_type": "code",
   "execution_count": 255,
   "id": "35946330-40c6-4522-b5c7-a2e1f94fafd1",
   "metadata": {},
   "outputs": [
    {
     "data": {
      "text/html": [
       "<div>\n",
       "<style scoped>\n",
       "    .dataframe tbody tr th:only-of-type {\n",
       "        vertical-align: middle;\n",
       "    }\n",
       "\n",
       "    .dataframe tbody tr th {\n",
       "        vertical-align: top;\n",
       "    }\n",
       "\n",
       "    .dataframe thead th {\n",
       "        text-align: right;\n",
       "    }\n",
       "</style>\n",
       "<table border=\"1\" class=\"dataframe\">\n",
       "  <thead>\n",
       "    <tr style=\"text-align: right;\">\n",
       "      <th></th>\n",
       "      <th>Total_Precipitation</th>\n",
       "      <th>latitude</th>\n",
       "      <th>longitude</th>\n",
       "      <th>elevation</th>\n",
       "    </tr>\n",
       "    <tr>\n",
       "      <th>Station</th>\n",
       "      <th></th>\n",
       "      <th></th>\n",
       "      <th></th>\n",
       "      <th></th>\n",
       "    </tr>\n",
       "  </thead>\n",
       "  <tbody>\n",
       "    <tr>\n",
       "      <th>USC00516128</th>\n",
       "      <td>147.11</td>\n",
       "      <td>21.33310</td>\n",
       "      <td>-157.80250</td>\n",
       "      <td>152.4</td>\n",
       "    </tr>\n",
       "    <tr>\n",
       "      <th>USC00519281</th>\n",
       "      <td>68.24</td>\n",
       "      <td>21.45167</td>\n",
       "      <td>-157.84889</td>\n",
       "      <td>32.9</td>\n",
       "    </tr>\n",
       "    <tr>\n",
       "      <th>USC00513117</th>\n",
       "      <td>48.36</td>\n",
       "      <td>21.42340</td>\n",
       "      <td>-157.80150</td>\n",
       "      <td>14.6</td>\n",
       "    </tr>\n",
       "    <tr>\n",
       "      <th>USC00519523</th>\n",
       "      <td>37.99</td>\n",
       "      <td>21.33556</td>\n",
       "      <td>-157.71139</td>\n",
       "      <td>19.5</td>\n",
       "    </tr>\n",
       "    <tr>\n",
       "      <th>USC00514830</th>\n",
       "      <td>33.19</td>\n",
       "      <td>21.52130</td>\n",
       "      <td>-157.83740</td>\n",
       "      <td>7.0</td>\n",
       "    </tr>\n",
       "    <tr>\n",
       "      <th>USC00519397</th>\n",
       "      <td>16.09</td>\n",
       "      <td>21.27160</td>\n",
       "      <td>-157.81680</td>\n",
       "      <td>3.0</td>\n",
       "    </tr>\n",
       "    <tr>\n",
       "      <th>USC00517948</th>\n",
       "      <td>4.59</td>\n",
       "      <td>21.39340</td>\n",
       "      <td>-157.97510</td>\n",
       "      <td>11.9</td>\n",
       "    </tr>\n",
       "  </tbody>\n",
       "</table>\n",
       "</div>"
      ],
      "text/plain": [
       "             Total_Precipitation  latitude  longitude  elevation\n",
       "Station                                                         \n",
       "USC00516128               147.11  21.33310 -157.80250      152.4\n",
       "USC00519281                68.24  21.45167 -157.84889       32.9\n",
       "USC00513117                48.36  21.42340 -157.80150       14.6\n",
       "USC00519523                37.99  21.33556 -157.71139       19.5\n",
       "USC00514830                33.19  21.52130 -157.83740        7.0\n",
       "USC00519397                16.09  21.27160 -157.81680        3.0\n",
       "USC00517948                 4.59  21.39340 -157.97510       11.9"
      ]
     },
     "execution_count": 255,
     "metadata": {},
     "output_type": "execute_result"
    }
   ],
   "source": [
    "annual_precip('2017-08-23')"
   ]
  },
  {
   "cell_type": "markdown",
   "id": "e009234e-64c6-4f14-8f3b-f4cd63f44845",
   "metadata": {},
   "source": [
    "## Daily Temperature Normals"
   ]
  },
  {
   "cell_type": "code",
   "execution_count": 149,
   "id": "32e1ae9b-26e5-420e-83a0-980eb5106bab",
   "metadata": {},
   "outputs": [],
   "source": [
    "def temp_normals(start_date, end_date):\n",
    "    \"\"\"Build a pandas dataframe of daily normals for the specified date range, and plot the results\n",
    "        Args: \n",
    "            start_date (str): The start date of the range, in the format '%Y-%m-%d' ('YYYY-MM-DD')\n",
    "            end_date (str): The end date of the range, in the format '%Y-%m-%d' ('YYYY-MM-DD')  \n",
    "        Return: Visualization of the daily temperature normals\n",
    "    \"\"\"\n",
    "    def date_list(start_date,end_date):\n",
    "        #Query sqlite database using sqlalchemy\n",
    "        return list(np.ravel(\n",
    "            session.query(func.strftime('%m-%d',Measurement.date))\n",
    "            .filter(func.strftime('%Y-%m-%d',Measurement.date) >= start_date)\n",
    "            .filter(func.strftime('%Y-%m-%d',Measurement.date) <= end_date)\n",
    "            .group_by(Measurement.date).all()\n",
    "        ))\n",
    "    \n",
    "    # daily normals was modified from starter code provided with the challenge\n",
    "    def daily_normals(date):\n",
    "        #columns to return from the query\n",
    "        temp_stats = [func.min(Measurement.tobs),\n",
    "                      func.round(func.avg(Measurement.tobs),0), \n",
    "                      func.max(Measurement.tobs), \n",
    "                      func.strftime('%m-%d',Measurement.date)] \n",
    "\n",
    "        #Query sqlite database using sqlalchemy, return information for only the specified date\n",
    "        return list(np.ravel(\n",
    "            session.query(*temp_stats)\n",
    "            .filter(func.strftime('%m-%d',Measurement.date) == date)\n",
    "            .all()\n",
    "        ))\n",
    "    \n",
    "    def build_df(normals):\n",
    "        # Turn list of daily normals into a pandas df, give the columns appropriate headers,\n",
    "        # and set 'Date' as the index\n",
    "        return (pd.DataFrame(normals,columns = ['Minimum Temperature','Average Temperature',\n",
    "                                                'Maximum Temperature','Date'])\n",
    "                .astype({'Minimum Temperature': float,'Average Temperature': float,'Maximum Temperature': float})\n",
    "                .set_index('Date'))\n",
    "    \n",
    "    def build_plot(normals_df):\n",
    "        normals_df.plot.area(stacked = False)\n",
    "        \n",
    "    specified_range = date_list(start_date,end_date)\n",
    "    normals = [daily_normals(date) for date in specified_range]\n",
    "    normals_df = build_df(normals)\n",
    "    \n",
    "    return build_plot(normals_df)"
   ]
  },
  {
   "cell_type": "code",
   "execution_count": 158,
   "id": "6edef511-8526-449b-9c26-a7d7778c6aaa",
   "metadata": {},
   "outputs": [
    {
     "data": {
      "image/png": "[encoded data removed]",
      "text/plain": [
       "<Figure size 432x288 with 1 Axes>"
      ]
     },
     "metadata": {
      "needs_background": "light"
     },
     "output_type": "display_data"
    }
   ],
   "source": [
    "temp_normals('2017-01-01','2017-01-07')"
   ]
  },
  {
   "cell_type": "code",
   "execution_count": null,
   "id": "bc61b3b5-d384-4e37-b42e-da5a1f9922ca",
   "metadata": {},
   "outputs": [],
   "source": []
  }
 ],
 "metadata": {
  "kernelspec": {
   "display_name": "Python 3",
   "language": "python",
   "name": "python3"
  },
  "language_info": {
   "codemirror_mode": {
    "name": "ipython",
    "version": 3
   },
   "file_extension": ".py",
   "mimetype": "text/x-python",
   "name": "python",
   "nbconvert_exporter": "python",
   "pygments_lexer": "ipython3",
   "version": "3.8.8"
  }
 },
 "nbformat": 4,
 "nbformat_minor": 5
}
