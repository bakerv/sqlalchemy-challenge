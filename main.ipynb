{
 "cells": [
  {
   "cell_type": "code",
   "execution_count": 3,
   "id": "db0acf1a-1391-438c-9d58-f3283a685862",
   "metadata": {},
   "outputs": [],
   "source": [
    "# import dependencies\n",
    "import pandas as pd\n",
    "import numpy as  np\n",
    "from sqlalchemy import create_engine,inspect,func\n",
    "from sqlalchemy.ext.automap import automap_base\n",
    "from sqlalchemy.orm import Session\n",
    "from scipy import stats\n",
    "import matplotlib.pyplot as plt"
   ]
  },
  {
   "cell_type": "markdown",
   "id": "285dd09a-d61b-427d-8818-4e99adf16068",
   "metadata": {},
   "source": [
    "## Data Cleaning"
   ]
  },
  {
   "cell_type": "code",
   "execution_count": 4,
   "id": "56825538-3eef-4ee3-bb73-d6e9683f80c0",
   "metadata": {},
   "outputs": [
    {
     "data": {
      "text/plain": [
       "['measurement', 'station']"
      ]
     },
     "execution_count": 4,
     "metadata": {},
     "output_type": "execute_result"
    }
   ],
   "source": [
    "# Read in both data tables to pandas\n",
    "engine = create_engine(\"sqlite:///Data/hawaii.sqlite\")\n",
    "Base = automap_base()\n",
    "\n",
    "contents = inspect(engine)\n",
    "Base.prepare(engine,reflect = True)\n",
    "Base.classes.keys()"
   ]
  },
  {
   "cell_type": "code",
   "execution_count": 50,
   "id": "0c47d9c4-f868-4f74-88e4-48cc9475b4a3",
   "metadata": {},
   "outputs": [],
   "source": [
    "#initialize sqlalchemy tools to query the sqlite database\n",
    "Measurement = Base.classes.measurement\n",
    "session = Session(engine)"
   ]
  },
  {
   "cell_type": "code",
   "execution_count": 5,
   "id": "31a9b655-edde-49ba-98d8-03c42f501e92",
   "metadata": {},
   "outputs": [
    {
     "data": {
      "text/html": [
       "<div>\n",
       "<style scoped>\n",
       "    .dataframe tbody tr th:only-of-type {\n",
       "        vertical-align: middle;\n",
       "    }\n",
       "\n",
       "    .dataframe tbody tr th {\n",
       "        vertical-align: top;\n",
       "    }\n",
       "\n",
       "    .dataframe thead th {\n",
       "        text-align: right;\n",
       "    }\n",
       "</style>\n",
       "<table border=\"1\" class=\"dataframe\">\n",
       "  <thead>\n",
       "    <tr style=\"text-align: right;\">\n",
       "      <th></th>\n",
       "      <th>id</th>\n",
       "      <th>station</th>\n",
       "      <th>date</th>\n",
       "      <th>prcp</th>\n",
       "      <th>tobs</th>\n",
       "    </tr>\n",
       "  </thead>\n",
       "  <tbody>\n",
       "    <tr>\n",
       "      <th>0</th>\n",
       "      <td>1</td>\n",
       "      <td>USC00519397</td>\n",
       "      <td>2010-01-01</td>\n",
       "      <td>0.08</td>\n",
       "      <td>65.0</td>\n",
       "    </tr>\n",
       "    <tr>\n",
       "      <th>1</th>\n",
       "      <td>2</td>\n",
       "      <td>USC00519397</td>\n",
       "      <td>2010-01-02</td>\n",
       "      <td>0.00</td>\n",
       "      <td>63.0</td>\n",
       "    </tr>\n",
       "    <tr>\n",
       "      <th>2</th>\n",
       "      <td>3</td>\n",
       "      <td>USC00519397</td>\n",
       "      <td>2010-01-03</td>\n",
       "      <td>0.00</td>\n",
       "      <td>74.0</td>\n",
       "    </tr>\n",
       "    <tr>\n",
       "      <th>3</th>\n",
       "      <td>4</td>\n",
       "      <td>USC00519397</td>\n",
       "      <td>2010-01-04</td>\n",
       "      <td>0.00</td>\n",
       "      <td>76.0</td>\n",
       "    </tr>\n",
       "    <tr>\n",
       "      <th>4</th>\n",
       "      <td>5</td>\n",
       "      <td>USC00519397</td>\n",
       "      <td>2010-01-06</td>\n",
       "      <td>NaN</td>\n",
       "      <td>73.0</td>\n",
       "    </tr>\n",
       "    <tr>\n",
       "      <th>...</th>\n",
       "      <td>...</td>\n",
       "      <td>...</td>\n",
       "      <td>...</td>\n",
       "      <td>...</td>\n",
       "      <td>...</td>\n",
       "    </tr>\n",
       "    <tr>\n",
       "      <th>19545</th>\n",
       "      <td>19546</td>\n",
       "      <td>USC00516128</td>\n",
       "      <td>2017-08-19</td>\n",
       "      <td>0.09</td>\n",
       "      <td>71.0</td>\n",
       "    </tr>\n",
       "    <tr>\n",
       "      <th>19546</th>\n",
       "      <td>19547</td>\n",
       "      <td>USC00516128</td>\n",
       "      <td>2017-08-20</td>\n",
       "      <td>NaN</td>\n",
       "      <td>78.0</td>\n",
       "    </tr>\n",
       "    <tr>\n",
       "      <th>19547</th>\n",
       "      <td>19548</td>\n",
       "      <td>USC00516128</td>\n",
       "      <td>2017-08-21</td>\n",
       "      <td>0.56</td>\n",
       "      <td>76.0</td>\n",
       "    </tr>\n",
       "    <tr>\n",
       "      <th>19548</th>\n",
       "      <td>19549</td>\n",
       "      <td>USC00516128</td>\n",
       "      <td>2017-08-22</td>\n",
       "      <td>0.50</td>\n",
       "      <td>76.0</td>\n",
       "    </tr>\n",
       "    <tr>\n",
       "      <th>19549</th>\n",
       "      <td>19550</td>\n",
       "      <td>USC00516128</td>\n",
       "      <td>2017-08-23</td>\n",
       "      <td>0.45</td>\n",
       "      <td>76.0</td>\n",
       "    </tr>\n",
       "  </tbody>\n",
       "</table>\n",
       "<p>19550 rows × 5 columns</p>\n",
       "</div>"
      ],
      "text/plain": [
       "          id      station        date  prcp  tobs\n",
       "0          1  USC00519397  2010-01-01  0.08  65.0\n",
       "1          2  USC00519397  2010-01-02  0.00  63.0\n",
       "2          3  USC00519397  2010-01-03  0.00  74.0\n",
       "3          4  USC00519397  2010-01-04  0.00  76.0\n",
       "4          5  USC00519397  2010-01-06   NaN  73.0\n",
       "...      ...          ...         ...   ...   ...\n",
       "19545  19546  USC00516128  2017-08-19  0.09  71.0\n",
       "19546  19547  USC00516128  2017-08-20   NaN  78.0\n",
       "19547  19548  USC00516128  2017-08-21  0.56  76.0\n",
       "19548  19549  USC00516128  2017-08-22  0.50  76.0\n",
       "19549  19550  USC00516128  2017-08-23  0.45  76.0\n",
       "\n",
       "[19550 rows x 5 columns]"
      ]
     },
     "metadata": {},
     "output_type": "display_data"
    },
    {
     "data": {
      "text/html": [
       "<div>\n",
       "<style scoped>\n",
       "    .dataframe tbody tr th:only-of-type {\n",
       "        vertical-align: middle;\n",
       "    }\n",
       "\n",
       "    .dataframe tbody tr th {\n",
       "        vertical-align: top;\n",
       "    }\n",
       "\n",
       "    .dataframe thead th {\n",
       "        text-align: right;\n",
       "    }\n",
       "</style>\n",
       "<table border=\"1\" class=\"dataframe\">\n",
       "  <thead>\n",
       "    <tr style=\"text-align: right;\">\n",
       "      <th></th>\n",
       "      <th>id</th>\n",
       "      <th>station</th>\n",
       "      <th>name</th>\n",
       "      <th>latitude</th>\n",
       "      <th>longitude</th>\n",
       "      <th>elevation</th>\n",
       "    </tr>\n",
       "  </thead>\n",
       "  <tbody>\n",
       "    <tr>\n",
       "      <th>0</th>\n",
       "      <td>1</td>\n",
       "      <td>USC00519397</td>\n",
       "      <td>WAIKIKI 717.2, HI US</td>\n",
       "      <td>21.27160</td>\n",
       "      <td>-157.81680</td>\n",
       "      <td>3.0</td>\n",
       "    </tr>\n",
       "    <tr>\n",
       "      <th>1</th>\n",
       "      <td>2</td>\n",
       "      <td>USC00513117</td>\n",
       "      <td>KANEOHE 838.1, HI US</td>\n",
       "      <td>21.42340</td>\n",
       "      <td>-157.80150</td>\n",
       "      <td>14.6</td>\n",
       "    </tr>\n",
       "    <tr>\n",
       "      <th>2</th>\n",
       "      <td>3</td>\n",
       "      <td>USC00514830</td>\n",
       "      <td>KUALOA RANCH HEADQUARTERS 886.9, HI US</td>\n",
       "      <td>21.52130</td>\n",
       "      <td>-157.83740</td>\n",
       "      <td>7.0</td>\n",
       "    </tr>\n",
       "    <tr>\n",
       "      <th>3</th>\n",
       "      <td>4</td>\n",
       "      <td>USC00517948</td>\n",
       "      <td>PEARL CITY, HI US</td>\n",
       "      <td>21.39340</td>\n",
       "      <td>-157.97510</td>\n",
       "      <td>11.9</td>\n",
       "    </tr>\n",
       "    <tr>\n",
       "      <th>4</th>\n",
       "      <td>5</td>\n",
       "      <td>USC00518838</td>\n",
       "      <td>UPPER WAHIAWA 874.3, HI US</td>\n",
       "      <td>21.49920</td>\n",
       "      <td>-158.01110</td>\n",
       "      <td>306.6</td>\n",
       "    </tr>\n",
       "    <tr>\n",
       "      <th>5</th>\n",
       "      <td>6</td>\n",
       "      <td>USC00519523</td>\n",
       "      <td>WAIMANALO EXPERIMENTAL FARM, HI US</td>\n",
       "      <td>21.33556</td>\n",
       "      <td>-157.71139</td>\n",
       "      <td>19.5</td>\n",
       "    </tr>\n",
       "    <tr>\n",
       "      <th>6</th>\n",
       "      <td>7</td>\n",
       "      <td>USC00519281</td>\n",
       "      <td>WAIHEE 837.5, HI US</td>\n",
       "      <td>21.45167</td>\n",
       "      <td>-157.84889</td>\n",
       "      <td>32.9</td>\n",
       "    </tr>\n",
       "    <tr>\n",
       "      <th>7</th>\n",
       "      <td>8</td>\n",
       "      <td>USC00511918</td>\n",
       "      <td>HONOLULU OBSERVATORY 702.2, HI US</td>\n",
       "      <td>21.31520</td>\n",
       "      <td>-157.99920</td>\n",
       "      <td>0.9</td>\n",
       "    </tr>\n",
       "    <tr>\n",
       "      <th>8</th>\n",
       "      <td>9</td>\n",
       "      <td>USC00516128</td>\n",
       "      <td>MANOA LYON ARBO 785.2, HI US</td>\n",
       "      <td>21.33310</td>\n",
       "      <td>-157.80250</td>\n",
       "      <td>152.4</td>\n",
       "    </tr>\n",
       "  </tbody>\n",
       "</table>\n",
       "</div>"
      ],
      "text/plain": [
       "   id      station                                    name  latitude  \\\n",
       "0   1  USC00519397                    WAIKIKI 717.2, HI US  21.27160   \n",
       "1   2  USC00513117                    KANEOHE 838.1, HI US  21.42340   \n",
       "2   3  USC00514830  KUALOA RANCH HEADQUARTERS 886.9, HI US  21.52130   \n",
       "3   4  USC00517948                       PEARL CITY, HI US  21.39340   \n",
       "4   5  USC00518838              UPPER WAHIAWA 874.3, HI US  21.49920   \n",
       "5   6  USC00519523      WAIMANALO EXPERIMENTAL FARM, HI US  21.33556   \n",
       "6   7  USC00519281                     WAIHEE 837.5, HI US  21.45167   \n",
       "7   8  USC00511918       HONOLULU OBSERVATORY 702.2, HI US  21.31520   \n",
       "8   9  USC00516128            MANOA LYON ARBO 785.2, HI US  21.33310   \n",
       "\n",
       "   longitude  elevation  \n",
       "0 -157.81680        3.0  \n",
       "1 -157.80150       14.6  \n",
       "2 -157.83740        7.0  \n",
       "3 -157.97510       11.9  \n",
       "4 -158.01110      306.6  \n",
       "5 -157.71139       19.5  \n",
       "6 -157.84889       32.9  \n",
       "7 -157.99920        0.9  \n",
       "8 -157.80250      152.4  "
      ]
     },
     "metadata": {},
     "output_type": "display_data"
    }
   ],
   "source": [
    "# generate pandas datframes from the sqlite database\n",
    "measurement_df = pd.read_sql(\"SELECT * FROM measurement\",con = engine)\n",
    "station_df = pd.read_sql(\"SELECT * FROM station\",con = engine)\n",
    "\n",
    "#Verify data import\n",
    "display(measurement_df)\n",
    "display(station_df)"
   ]
  },
  {
   "cell_type": "code",
   "execution_count": 7,
   "id": "965c292d-d124-413d-acf2-026a98622103",
   "metadata": {},
   "outputs": [
    {
     "data": {
      "text/plain": [
       "id           int64\n",
       "station     object\n",
       "date        object\n",
       "prcp       float64\n",
       "tobs       float64\n",
       "dtype: object"
      ]
     },
     "metadata": {},
     "output_type": "display_data"
    },
    {
     "name": "stdout",
     "output_type": "stream",
     "text": [
      "\n"
     ]
    },
    {
     "data": {
      "text/plain": [
       "id         19550\n",
       "station    19550\n",
       "date       19550\n",
       "prcp       18103\n",
       "tobs       19550\n",
       "dtype: int64"
      ]
     },
     "metadata": {},
     "output_type": "display_data"
    }
   ],
   "source": [
    "# Check data types and look for null values,\n",
    "# null values observed for precipitation\n",
    "display(measurement_df.dtypes)\n",
    "print('')\n",
    "display(measurement_df.count())"
   ]
  },
  {
   "cell_type": "code",
   "execution_count": 153,
   "id": "fbd6c764-28f3-4f2b-8ac0-d905692eb0a5",
   "metadata": {},
   "outputs": [
    {
     "name": "stdout",
     "output_type": "stream",
     "text": [
      "There are a total of 9 stations in the dataset\n",
      "The most active station is USC00519281\n"
     ]
    }
   ],
   "source": [
    "#Find the most active station\n",
    "mostactive = list(np.ravel(measurement_df.groupby('station')\n",
    "                           .agg({'tobs':'count'})\n",
    "                           .sort_values('tobs',ascending = False)\n",
    "                           .reset_index().head(1)\n",
    "                          ))\n",
    "\n",
    "print(f'There are a total of {station_df[\"station\"].count()} stations in the dataset')\n",
    "print(f'The most active station is {mostactive[0]}')"
   ]
  },
  {
   "cell_type": "markdown",
   "id": "f5aa083a-9cce-4c6c-926d-af0a6eb0acdc",
   "metadata": {},
   "source": [
    "## Precipitation Analysis"
   ]
  },
  {
   "cell_type": "code",
   "execution_count": 36,
   "id": "421ff4ce-a962-4b71-8526-8723be3554e3",
   "metadata": {},
   "outputs": [],
   "source": [
    "def cumulative_rainfall(date):\n",
    "    \"\"\"Returns summary statistics and visualizes the last year of precipitation data\n",
    "        Args:\n",
    "            date (str): select the year ending in this date, format is '%Y-%m-%d' (YYYY-MM-DD)\n",
    "       Return:\n",
    "           Summary statistics on the data set, and a bar chart generated using pandas with matplotlib\n",
    "    \"\"\"\n",
    "    def prcp_query(date):\n",
    "        #Query the sqlite database using pandas, return one year of prcp data from all stations\n",
    "        return (pd.read_sql(\"\"\"\n",
    "        SELECT date AS Date, prcp As Precipitation\n",
    "        FROM measurement \n",
    "        WHERE Date > DATE(:date, '-1 years')\n",
    "        ORDER BY Date ASC;\n",
    "                               \"\"\",\n",
    "        params = {'date':date}, con = engine)\n",
    "                # drop null values and change the index\n",
    "                .dropna().set_index(\"Date\")\n",
    "               )\n",
    "                \n",
    "    def prcp_plot(prcp_df):\n",
    "        #plot the data using pandas and imporve the formating with matplotlib\n",
    "        prcp_df.plot(figsize = (12,9),fontsize = 11)\n",
    "        plt.title(f'Daily Precipitation Totals from Multiple Weather Stations in Hawaii',fontsize=18)\n",
    "        plt.ylabel(\"Measured Precipitation (inches)\", fontsize =14)\n",
    "        plt.xlabel(\"Date\", fontsize =14)\n",
    "        plt.legend().remove()\n",
    "\n",
    "    prcp_df = prcp_query(date)\n",
    "    \n",
    "    #return the visualization and summary statistics for the data\n",
    "    return prcp_plot(prcp_df), display(prcp_df.describe())"
   ]
  },
  {
   "cell_type": "code",
   "execution_count": 37,
   "id": "436bdc35-2f26-4905-9ba3-65b44425a835",
   "metadata": {},
   "outputs": [
    {
     "data": {
      "text/html": [
       "<div>\n",
       "<style scoped>\n",
       "    .dataframe tbody tr th:only-of-type {\n",
       "        vertical-align: middle;\n",
       "    }\n",
       "\n",
       "    .dataframe tbody tr th {\n",
       "        vertical-align: top;\n",
       "    }\n",
       "\n",
       "    .dataframe thead th {\n",
       "        text-align: right;\n",
       "    }\n",
       "</style>\n",
       "<table border=\"1\" class=\"dataframe\">\n",
       "  <thead>\n",
       "    <tr style=\"text-align: right;\">\n",
       "      <th></th>\n",
       "      <th>Precipitation</th>\n",
       "    </tr>\n",
       "  </thead>\n",
       "  <tbody>\n",
       "    <tr>\n",
       "      <th>count</th>\n",
       "      <td>2015.000000</td>\n",
       "    </tr>\n",
       "    <tr>\n",
       "      <th>mean</th>\n",
       "      <td>0.176462</td>\n",
       "    </tr>\n",
       "    <tr>\n",
       "      <th>std</th>\n",
       "      <td>0.460288</td>\n",
       "    </tr>\n",
       "    <tr>\n",
       "      <th>min</th>\n",
       "      <td>0.000000</td>\n",
       "    </tr>\n",
       "    <tr>\n",
       "      <th>25%</th>\n",
       "      <td>0.000000</td>\n",
       "    </tr>\n",
       "    <tr>\n",
       "      <th>50%</th>\n",
       "      <td>0.020000</td>\n",
       "    </tr>\n",
       "    <tr>\n",
       "      <th>75%</th>\n",
       "      <td>0.130000</td>\n",
       "    </tr>\n",
       "    <tr>\n",
       "      <th>max</th>\n",
       "      <td>6.700000</td>\n",
       "    </tr>\n",
       "  </tbody>\n",
       "</table>\n",
       "</div>"
      ],
      "text/plain": [
       "       Precipitation\n",
       "count    2015.000000\n",
       "mean        0.176462\n",
       "std         0.460288\n",
       "min         0.000000\n",
       "25%         0.000000\n",
       "50%         0.020000\n",
       "75%         0.130000\n",
       "max         6.700000"
      ]
     },
     "metadata": {},
     "output_type": "display_data"
    },
    {
     "data": {
      "text/plain": [
       "(None, None)"
      ]
     },
     "execution_count": 37,
     "metadata": {},
     "output_type": "execute_result"
    },
    {
     "data": {
      "image/png": "[encoded data removed]",
      "text/plain": [
       "<Figure size 864x648 with 1 Axes>"
      ]
     },
     "metadata": {
      "needs_background": "light"
     },
     "output_type": "display_data"
    }
   ],
   "source": [
    "cumulative_rainfall('2017-08-23')"
   ]
  },
  {
   "cell_type": "code",
   "execution_count": 307,
   "id": "1f6d6dce-5cbd-40c1-9b7a-c324415894ef",
   "metadata": {},
   "outputs": [],
   "source": [
    "def annual_precip(date):\n",
    "    \"\"\"Determine the cumulative rainfall over the previous year for each station\n",
    "        Args:\n",
    "            date (str): returndata for one year prior to this date, format '%Y-%m-%d' ('YYYY-MM-DD')\n",
    "        Return:\n",
    "            pandas dataframe of cumulative rainfall totals for each station\n",
    "    \"\"\"\n",
    "    # Query the sqlite database using pandas, join data from multiple tables\n",
    "    return pd.read_sql(\"\"\"\n",
    "    SELECT m.station AS Station, SUM(m.prcp) As Total_Precipitation, s.latitude, s.longitude, s.elevation\n",
    "    FROM measurement AS m \n",
    "    INNER JOIN station AS s ON m.station = s.station\n",
    "    WHERE m.date > DATE(:date, '-1 years')\n",
    "    GROUP BY m.station\n",
    "    ORDER BY Total_Precipitation DESC;\n",
    "                           \"\"\",params ={'date':date},con = engine).set_index('Station')"
   ]
  },
  {
   "cell_type": "code",
   "execution_count": 308,
   "id": "35946330-40c6-4522-b5c7-a2e1f94fafd1",
   "metadata": {},
   "outputs": [
    {
     "data": {
      "text/html": [
       "<div>\n",
       "<style scoped>\n",
       "    .dataframe tbody tr th:only-of-type {\n",
       "        vertical-align: middle;\n",
       "    }\n",
       "\n",
       "    .dataframe tbody tr th {\n",
       "        vertical-align: top;\n",
       "    }\n",
       "\n",
       "    .dataframe thead th {\n",
       "        text-align: right;\n",
       "    }\n",
       "</style>\n",
       "<table border=\"1\" class=\"dataframe\">\n",
       "  <thead>\n",
       "    <tr style=\"text-align: right;\">\n",
       "      <th></th>\n",
       "      <th>Total_Precipitation</th>\n",
       "      <th>latitude</th>\n",
       "      <th>longitude</th>\n",
       "      <th>elevation</th>\n",
       "    </tr>\n",
       "    <tr>\n",
       "      <th>Station</th>\n",
       "      <th></th>\n",
       "      <th></th>\n",
       "      <th></th>\n",
       "      <th></th>\n",
       "    </tr>\n",
       "  </thead>\n",
       "  <tbody>\n",
       "    <tr>\n",
       "      <th>USC00516128</th>\n",
       "      <td>147.11</td>\n",
       "      <td>21.33310</td>\n",
       "      <td>-157.80250</td>\n",
       "      <td>152.4</td>\n",
       "    </tr>\n",
       "    <tr>\n",
       "      <th>USC00519281</th>\n",
       "      <td>68.24</td>\n",
       "      <td>21.45167</td>\n",
       "      <td>-157.84889</td>\n",
       "      <td>32.9</td>\n",
       "    </tr>\n",
       "    <tr>\n",
       "      <th>USC00513117</th>\n",
       "      <td>48.36</td>\n",
       "      <td>21.42340</td>\n",
       "      <td>-157.80150</td>\n",
       "      <td>14.6</td>\n",
       "    </tr>\n",
       "    <tr>\n",
       "      <th>USC00519523</th>\n",
       "      <td>37.99</td>\n",
       "      <td>21.33556</td>\n",
       "      <td>-157.71139</td>\n",
       "      <td>19.5</td>\n",
       "    </tr>\n",
       "    <tr>\n",
       "      <th>USC00514830</th>\n",
       "      <td>33.19</td>\n",
       "      <td>21.52130</td>\n",
       "      <td>-157.83740</td>\n",
       "      <td>7.0</td>\n",
       "    </tr>\n",
       "    <tr>\n",
       "      <th>USC00519397</th>\n",
       "      <td>16.09</td>\n",
       "      <td>21.27160</td>\n",
       "      <td>-157.81680</td>\n",
       "      <td>3.0</td>\n",
       "    </tr>\n",
       "    <tr>\n",
       "      <th>USC00517948</th>\n",
       "      <td>4.59</td>\n",
       "      <td>21.39340</td>\n",
       "      <td>-157.97510</td>\n",
       "      <td>11.9</td>\n",
       "    </tr>\n",
       "  </tbody>\n",
       "</table>\n",
       "</div>"
      ],
      "text/plain": [
       "             Total_Precipitation  latitude  longitude  elevation\n",
       "Station                                                         \n",
       "USC00516128               147.11  21.33310 -157.80250      152.4\n",
       "USC00519281                68.24  21.45167 -157.84889       32.9\n",
       "USC00513117                48.36  21.42340 -157.80150       14.6\n",
       "USC00519523                37.99  21.33556 -157.71139       19.5\n",
       "USC00514830                33.19  21.52130 -157.83740        7.0\n",
       "USC00519397                16.09  21.27160 -157.81680        3.0\n",
       "USC00517948                 4.59  21.39340 -157.97510       11.9"
      ]
     },
     "execution_count": 308,
     "metadata": {},
     "output_type": "execute_result"
    }
   ],
   "source": [
    "annual_precip('2017-08-23')"
   ]
  },
  {
   "cell_type": "markdown",
   "id": "d56ff7e5-444b-4d39-abae-8813063b4dd6",
   "metadata": {},
   "source": [
    "## Temperature Analysis"
   ]
  },
  {
   "cell_type": "code",
   "execution_count": 126,
   "id": "a19a1814-5483-4b06-994e-42aab11fb287",
   "metadata": {},
   "outputs": [],
   "source": [
    "def temperature_distribution(date):\n",
    "    \"\"\"Visualize temperature data from the most active station in the dataset, for the last year\n",
    "        Args:\n",
    "            date (str): select the year ending in this date, format is '%Y-%m-%d' (YYYY-MM-DD)\n",
    "        Return:\n",
    "            Histogram of temperature measurements for the most active station in the data set\n",
    "    \"\"\"\n",
    "    def most_active():\n",
    "        #Query the sqlite data to determine the most active weather station\n",
    "        #numpy ravel is used to convert the dataframe into a list\n",
    "        station = list(np.ravel(pd.read_sql(\"\"\"\n",
    "        SELECT station\n",
    "        FROM measurement\n",
    "        GROUP BY station\n",
    "        ORDER BY count(prcp) DESC\n",
    "        LIMIT 1;\n",
    "        \"\"\",con = engine)))\n",
    "        \n",
    "        return station[0]\n",
    "    \n",
    "    def select_data(date,station):\n",
    "        \n",
    "        return pd.read_sql(\"\"\"\n",
    "        SELECT tobs AS Temperature, station, date\n",
    "        FROM  measurement\n",
    "        WHERE Date > DATE(:date, '-1 years') AND station = :station\"\"\",\n",
    "        params = {\"station\":station,\"date\":date}, con = engine)\n",
    "    \n",
    "    def plot_data(data):\n",
    "        data.plot.hist(bins = 12, figsize = (12,9))\n",
    "        plt.title(f'Daily Temperature Distribution for the Year Ending {date}',fontsize=18)\n",
    "        plt.ylabel(\"Frequency\", fontsize =14)\n",
    "        plt.xlabel(\"Temperature (F)\", fontsize =14)\n",
    "        plt.legend().remove()\n",
    "    \n",
    "    station = most_active()\n",
    "    data = select_data(date,station)\n",
    "    \n",
    "    return plot_data(data)"
   ]
  },
  {
   "cell_type": "code",
   "execution_count": 127,
   "id": "617194be-58a2-4c76-84f9-6f801a25e159",
   "metadata": {},
   "outputs": [
    {
     "data": {
      "image/png": "[encoded data removed]",
      "text/plain": [
       "<Figure size 864x648 with 1 Axes>"
      ]
     },
     "metadata": {
      "needs_background": "light"
     },
     "output_type": "display_data"
    }
   ],
   "source": [
    "temperature_distribution('2017-08-23')"
   ]
  },
  {
   "cell_type": "code",
   "execution_count": 252,
   "id": "0409f20d-4f2f-400e-8411-4c72d916e25f",
   "metadata": {},
   "outputs": [],
   "source": [
    "def monthly_comparison(month1,month2):\n",
    "    \"\"\" Use a paired t-test to determine if there is a statistical differnce in observed temperature between two months\n",
    "        Args:\n",
    "            month1 (str): month in the format '%m' MM\n",
    "            month2 (str): month in the format '%m' MM\n",
    "        Returns:\n",
    "            Interprion of the t-test results for a 95% confidence interval\n",
    "            Calculated p-value\n",
    "    \"\"\"\n",
    "    \n",
    "    def query_month(month):\n",
    "        #Query the sqlite database using pandas, return all data for the specified month\n",
    "        month_data = pd.read_sql(\"\"\"\n",
    "        SELECT date, tobs, station\n",
    "        FROM measurement\n",
    "        WHERE strftime(\"%m\",date) = :month\n",
    "        \"\"\",params={'month':month},con = engine)\n",
    "        \n",
    "        # Add a cumulative count of each time a station appears. This will be used to form a primary key\n",
    "        month_data['cc'] = month_data.groupby('station').cumcount()\n",
    "        return month_data\n",
    "    \n",
    "    def compare(month1_data,month2_data):\n",
    "        # Determine 'position' of each dataset for the merge, makes sure there are no null values created\n",
    "        if len(month1_data) > len(month2_data):\n",
    "            leftdata = month2_data\n",
    "            rightdata = month1_data\n",
    "        else:\n",
    "            leftdata = month1_data\n",
    "            rightdata = month2_data\n",
    "        \n",
    "        #merge the data to create equal length data sets for the t-test\n",
    "        return pd.merge(leftdata,rightdata, on=['station','cc'],how = 'left').drop('cc',1)\n",
    "    \n",
    "    def interpret_ttest(temps_merge):\n",
    "        #paired t-test using scipy.stats on the merged data\n",
    "        results = stats.ttest_rel(temps_merge['tobs_x'],temps_merge['tobs_y'])\n",
    "        \n",
    "        # translate integer month into month name for output\n",
    "        month_dict = {'01':'January','02':'February','03':'March','04':'April','05':'May','06':'June',\n",
    "                     '07':'July','08':'August','09':'September','10':'October','11':'November','12':'December'}\n",
    "        \n",
    "        # Separate outputs for each interpretation of t-test results\n",
    "        if results[1] < 0.05:\n",
    "            return print(f'''\n",
    "Using a 95% confidence interval,\n",
    "there is a difference in mean temperatures for {month_dict[month1]} and {month_dict[month2]}\n",
    "p-value: {results[1]}''')\n",
    "        else:\n",
    "            return print(f'''\n",
    "Using a 95% confidence interval,\n",
    "there is no difference in mean temperatures for {month_dict[month1]} and {month_dict[month2]}\n",
    "p-value: {results[1]}''')\n",
    "        \n",
    "    month1_data = query_month(month1)\n",
    "    month2_data = query_month(month2)\n",
    "    temps_merge = compare(month1_data,month2_data)\n",
    "    \n",
    "    return interpret_ttest(temps_merge)"
   ]
  },
  {
   "cell_type": "code",
   "execution_count": 253,
   "id": "812c11ef-8013-47b8-a4bb-a3d69ce52af7",
   "metadata": {},
   "outputs": [
    {
     "name": "stdout",
     "output_type": "stream",
     "text": [
      "Using a 95% confidence interval,\n",
      "there is a difference in mean temperatures for June and December\n",
      "p-value: 5.1149843653202015e-169\n"
     ]
    }
   ],
   "source": [
    "monthly_comparison('06','12')"
   ]
  },
  {
   "cell_type": "code",
   "execution_count": 96,
   "id": "6bad6964-c1d2-45b1-ab2c-5968c5a7f6e2",
   "metadata": {},
   "outputs": [],
   "source": [
    "def avg_temp(start_date,end_date):\n",
    "    \n",
    "    # calc_temps was modified from starter code provided with the challenge\n",
    "    def calc_temps(start_date,end_date):\n",
    "        \"\"\"Returns temperature statistics for a specified date range\n",
    "        Args:\n",
    "            start_date (string): A date string in the format ''%Y-%m-%d' 'YYYY-MM-DD'\n",
    "            end_date (string): A date string in the format ''%Y-%m-%d' 'YYYY-MM-DD'\n",
    "        Returns:\n",
    "            TMIN, TAVG, and TMAX\n",
    "        \"\"\"\n",
    "        return list(np.ravel((\n",
    "            session.query(func.min(Measurement.tobs),func.avg(Measurement.tobs),func.max(Measurement.tobs))\n",
    "            .filter(Measurement.date >= start_date)\n",
    "            .filter(Measurement.date <= end_date)).all()\n",
    "        ))\n",
    "\n",
    "    def plot_temps(temp_stats):\n",
    "        # Use matplotlib to generate a barplot with error bar for average temperature\n",
    "        plt.figure(figsize = (12,9))\n",
    "        plt.bar(1,temp_stats[1],yerr=((temp_stats[2]-temp_stats[0])/2))\n",
    "        plt.title(f'Hawaii Average Temperature Between {start_date} and {end_date}',fontsize=18)\n",
    "        plt.ylabel(\"Temperature (F)\", fontsize =14)\n",
    "        plt.xlim([0,2])\n",
    "        plt.tick_params(axis = 'x',bottom=False,labelbottom=False)\n",
    "        \n",
    "    temp_stats = calc_temps(start_date,end_date)\n",
    "    \n",
    "    return plot_temps(temp_stats)"
   ]
  },
  {
   "cell_type": "code",
   "execution_count": 97,
   "id": "1b1c5d37-a9c3-4906-b6f0-5aabecc74e32",
   "metadata": {},
   "outputs": [
    {
     "data": {
      "image/png": "[encoded data removed]",
      "text/plain": [
       "<Figure size 864x648 with 1 Axes>"
      ]
     },
     "metadata": {
      "needs_background": "light"
     },
     "output_type": "display_data"
    }
   ],
   "source": [
    "avg_temp('2015-02-14','2015-03-01')"
   ]
  },
  {
   "cell_type": "code",
   "execution_count": 124,
   "id": "32e1ae9b-26e5-420e-83a0-980eb5106bab",
   "metadata": {},
   "outputs": [],
   "source": [
    "def temp_normals(start_date, end_date):\n",
    "    \"\"\"Build a pandas dataframe of daily normals for the specified date range, and plot the results\n",
    "        Args: \n",
    "            start_date (str): The start date of the range, in the format '%Y-%m-%d' ('YYYY-MM-DD')\n",
    "            end_date (str): The end date of the range, in the format '%Y-%m-%d' ('YYYY-MM-DD')  \n",
    "        Return: Visualization of the daily temperature normals\n",
    "    \"\"\"\n",
    "    def date_list(start_date,end_date):\n",
    "        #Query sqlite database using sqlalchemy\n",
    "        return list(np.ravel(\n",
    "            session.query(func.strftime('%m-%d',Measurement.date))\n",
    "            .filter(func.strftime('%Y-%m-%d',Measurement.date) >= start_date)\n",
    "            .filter(func.strftime('%Y-%m-%d',Measurement.date) <= end_date)\n",
    "            .group_by(Measurement.date).all()\n",
    "        ))\n",
    "    \n",
    "    # daily normals was modified from starter code provided with the challenge\n",
    "    def daily_normals(date):\n",
    "        #columns to return from the query\n",
    "        temp_stats = [func.min(Measurement.tobs),\n",
    "                      func.round(func.avg(Measurement.tobs),0), \n",
    "                      func.max(Measurement.tobs), \n",
    "                      func.strftime('%m-%d',Measurement.date)] \n",
    "\n",
    "        #Query sqlite database using sqlalchemy, return information for only the specified date\n",
    "        return list(np.ravel(\n",
    "            session.query(*temp_stats)\n",
    "            .filter(func.strftime('%m-%d',Measurement.date) == date)\n",
    "            .all()\n",
    "        ))\n",
    "    \n",
    "    def build_df(normals):\n",
    "        # Turn list of daily normals into a pandas df, give the columns appropriate headers,\n",
    "        # and set 'Date' as the index\n",
    "        return (pd.DataFrame(normals,columns = ['Minimum Temperature','Average Temperature',\n",
    "                                                'Maximum Temperature','Date'])\n",
    "                .astype({'Minimum Temperature': float,'Average Temperature': float,'Maximum Temperature': float})\n",
    "                .set_index('Date'))\n",
    "    \n",
    "    def build_plot(normals_df):\n",
    "        normals_df.plot.area(stacked = False, figsize = (12,9),fontsize = 12)\n",
    "        plt.title(f'Historical Weather Data for Hawaii',fontsize=18)\n",
    "        plt.ylabel(\"Temperature (F)\", fontsize =14)\n",
    "        plt.xlabel(\"Date\", fontsize =14)\n",
    "        plt.legend(prop={'size':14})\n",
    "\n",
    "        \n",
    "    specified_range = date_list(start_date,end_date)\n",
    "    normals = [daily_normals(date) for date in specified_range]\n",
    "    normals_df = build_df(normals)\n",
    "    \n",
    "    return build_plot(normals_df)"
   ]
  },
  {
   "cell_type": "code",
   "execution_count": 125,
   "id": "6edef511-8526-449b-9c26-a7d7778c6aaa",
   "metadata": {},
   "outputs": [
    {
     "data": {
      "image/png": "[encoded data removed]",
      "text/plain": [
       "<Figure size 864x648 with 1 Axes>"
      ]
     },
     "metadata": {
      "needs_background": "light"
     },
     "output_type": "display_data"
    }
   ],
   "source": [
    "temp_normals('2017-01-01','2017-01-07')"
   ]
  }
 ],
 "metadata": {
  "kernelspec": {
   "display_name": "Python 3",
   "language": "python",
   "name": "python3"
  },
  "language_info": {
   "codemirror_mode": {
    "name": "ipython",
    "version": 3
   },
   "file_extension": ".py",
   "mimetype": "text/x-python",
   "name": "python",
   "nbconvert_exporter": "python",
   "pygments_lexer": "ipython3",
   "version": "3.8.8"
  }
 },
 "nbformat": 4,
 "nbformat_minor": 5
}
