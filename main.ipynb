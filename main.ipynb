{
 "cells": [
  {
   "cell_type": "code",
   "execution_count": 20,
   "id": "db0acf1a-1391-438c-9d58-f3283a685862",
   "metadata": {},
   "outputs": [],
   "source": [
    "import pandas as pd\n",
    "import numpy as  np\n",
    "from sqlalchemy import create_engine,inspect,func\n",
    "from sqlalchemy.ext.automap import automap_base\n",
    "from sqlalchemy.orm import Session\n",
    "from scipy import stats\n",
    "\n",
    "import matplotlib.pyplot as plt"
   ]
  },
  {
   "cell_type": "code",
   "execution_count": 3,
   "id": "1870b18f-0ec9-4f0c-a782-412d1ed6f665",
   "metadata": {},
   "outputs": [
    {
     "data": {
      "text/plain": [
       "['measurement', 'station']"
      ]
     },
     "execution_count": 3,
     "metadata": {},
     "output_type": "execute_result"
    }
   ],
   "source": [
    "# Read in both data tables to pandas\n",
    "engine = create_engine(\"sqlite:///Data/hawaii.sqlite\")\n",
    "Base = automap_base()\n",
    "\n",
    "contents = inspect(engine)\n",
    "Base.prepare(engine,reflect = True)\n",
    "Base.classes.keys()"
   ]
  },
  {
   "cell_type": "code",
   "execution_count": 7,
   "id": "4de6fddf-81df-403c-bdfb-59828b80d1c2",
   "metadata": {},
   "outputs": [
    {
     "data": {
      "text/plain": [
       "[{'name': 'id',\n",
       "  'type': INTEGER(),\n",
       "  'nullable': False,\n",
       "  'default': None,\n",
       "  'autoincrement': 'auto',\n",
       "  'primary_key': 1},\n",
       " {'name': 'station',\n",
       "  'type': TEXT(),\n",
       "  'nullable': True,\n",
       "  'default': None,\n",
       "  'autoincrement': 'auto',\n",
       "  'primary_key': 0},\n",
       " {'name': 'date',\n",
       "  'type': TEXT(),\n",
       "  'nullable': True,\n",
       "  'default': None,\n",
       "  'autoincrement': 'auto',\n",
       "  'primary_key': 0},\n",
       " {'name': 'prcp',\n",
       "  'type': FLOAT(),\n",
       "  'nullable': True,\n",
       "  'default': None,\n",
       "  'autoincrement': 'auto',\n",
       "  'primary_key': 0},\n",
       " {'name': 'tobs',\n",
       "  'type': FLOAT(),\n",
       "  'nullable': True,\n",
       "  'default': None,\n",
       "  'autoincrement': 'auto',\n",
       "  'primary_key': 0}]"
      ]
     },
     "metadata": {},
     "output_type": "display_data"
    }
   ],
   "source": [
    "columns_measurement = contents.get_columns('measurement')\n",
    "display(columns_measurement)"
   ]
  },
  {
   "cell_type": "code",
   "execution_count": 8,
   "id": "49da3c33-d06f-48b9-a76f-604d9bfec1d1",
   "metadata": {},
   "outputs": [
    {
     "data": {
      "text/plain": [
       "[{'name': 'id',\n",
       "  'type': INTEGER(),\n",
       "  'nullable': False,\n",
       "  'default': None,\n",
       "  'autoincrement': 'auto',\n",
       "  'primary_key': 1},\n",
       " {'name': 'station',\n",
       "  'type': TEXT(),\n",
       "  'nullable': True,\n",
       "  'default': None,\n",
       "  'autoincrement': 'auto',\n",
       "  'primary_key': 0},\n",
       " {'name': 'name',\n",
       "  'type': TEXT(),\n",
       "  'nullable': True,\n",
       "  'default': None,\n",
       "  'autoincrement': 'auto',\n",
       "  'primary_key': 0},\n",
       " {'name': 'latitude',\n",
       "  'type': FLOAT(),\n",
       "  'nullable': True,\n",
       "  'default': None,\n",
       "  'autoincrement': 'auto',\n",
       "  'primary_key': 0},\n",
       " {'name': 'longitude',\n",
       "  'type': FLOAT(),\n",
       "  'nullable': True,\n",
       "  'default': None,\n",
       "  'autoincrement': 'auto',\n",
       "  'primary_key': 0},\n",
       " {'name': 'elevation',\n",
       "  'type': FLOAT(),\n",
       "  'nullable': True,\n",
       "  'default': None,\n",
       "  'autoincrement': 'auto',\n",
       "  'primary_key': 0}]"
      ]
     },
     "metadata": {},
     "output_type": "display_data"
    }
   ],
   "source": [
    "display(contents.get_columns('station'))"
   ]
  },
  {
   "cell_type": "code",
   "execution_count": 74,
   "id": "9eab35d2-e020-4a6d-8b87-577e4d29bdb3",
   "metadata": {
    "tags": []
   },
   "outputs": [],
   "source": [
    "#First Date\n",
    "#session.query(Measurement.date).order_by(Measurement.date).first()"
   ]
  },
  {
   "cell_type": "code",
   "execution_count": 75,
   "id": "42de1300-8d15-4605-a329-494cfed8d033",
   "metadata": {},
   "outputs": [],
   "source": [
    "#last Date\n",
    "#session.query(Measurement.date).order_by(Measurement.date.desc()).first()"
   ]
  },
  {
   "cell_type": "code",
   "execution_count": 76,
   "id": "db9f5678-b979-4ec7-bf82-9ba3c3c1d663",
   "metadata": {},
   "outputs": [],
   "source": [
    "#session.query(Station.station).all()"
   ]
  },
  {
   "cell_type": "code",
   "execution_count": 77,
   "id": "262abfbc-b758-4170-9c61-08852e6e20cd",
   "metadata": {},
   "outputs": [
    {
     "data": {
      "text/html": [
       "<div>\n",
       "<style scoped>\n",
       "    .dataframe tbody tr th:only-of-type {\n",
       "        vertical-align: middle;\n",
       "    }\n",
       "\n",
       "    .dataframe tbody tr th {\n",
       "        vertical-align: top;\n",
       "    }\n",
       "\n",
       "    .dataframe thead th {\n",
       "        text-align: right;\n",
       "    }\n",
       "</style>\n",
       "<table border=\"1\" class=\"dataframe\">\n",
       "  <thead>\n",
       "    <tr style=\"text-align: right;\">\n",
       "      <th></th>\n",
       "      <th>id</th>\n",
       "      <th>station</th>\n",
       "      <th>date</th>\n",
       "      <th>prcp</th>\n",
       "      <th>tobs</th>\n",
       "    </tr>\n",
       "  </thead>\n",
       "  <tbody>\n",
       "    <tr>\n",
       "      <th>0</th>\n",
       "      <td>1</td>\n",
       "      <td>USC00519397</td>\n",
       "      <td>2010-01-01</td>\n",
       "      <td>0.08</td>\n",
       "      <td>65.0</td>\n",
       "    </tr>\n",
       "    <tr>\n",
       "      <th>1</th>\n",
       "      <td>2</td>\n",
       "      <td>USC00519397</td>\n",
       "      <td>2010-01-02</td>\n",
       "      <td>0.00</td>\n",
       "      <td>63.0</td>\n",
       "    </tr>\n",
       "    <tr>\n",
       "      <th>2</th>\n",
       "      <td>3</td>\n",
       "      <td>USC00519397</td>\n",
       "      <td>2010-01-03</td>\n",
       "      <td>0.00</td>\n",
       "      <td>74.0</td>\n",
       "    </tr>\n",
       "    <tr>\n",
       "      <th>3</th>\n",
       "      <td>4</td>\n",
       "      <td>USC00519397</td>\n",
       "      <td>2010-01-04</td>\n",
       "      <td>0.00</td>\n",
       "      <td>76.0</td>\n",
       "    </tr>\n",
       "    <tr>\n",
       "      <th>4</th>\n",
       "      <td>5</td>\n",
       "      <td>USC00519397</td>\n",
       "      <td>2010-01-06</td>\n",
       "      <td>NaN</td>\n",
       "      <td>73.0</td>\n",
       "    </tr>\n",
       "    <tr>\n",
       "      <th>...</th>\n",
       "      <td>...</td>\n",
       "      <td>...</td>\n",
       "      <td>...</td>\n",
       "      <td>...</td>\n",
       "      <td>...</td>\n",
       "    </tr>\n",
       "    <tr>\n",
       "      <th>19545</th>\n",
       "      <td>19546</td>\n",
       "      <td>USC00516128</td>\n",
       "      <td>2017-08-19</td>\n",
       "      <td>0.09</td>\n",
       "      <td>71.0</td>\n",
       "    </tr>\n",
       "    <tr>\n",
       "      <th>19546</th>\n",
       "      <td>19547</td>\n",
       "      <td>USC00516128</td>\n",
       "      <td>2017-08-20</td>\n",
       "      <td>NaN</td>\n",
       "      <td>78.0</td>\n",
       "    </tr>\n",
       "    <tr>\n",
       "      <th>19547</th>\n",
       "      <td>19548</td>\n",
       "      <td>USC00516128</td>\n",
       "      <td>2017-08-21</td>\n",
       "      <td>0.56</td>\n",
       "      <td>76.0</td>\n",
       "    </tr>\n",
       "    <tr>\n",
       "      <th>19548</th>\n",
       "      <td>19549</td>\n",
       "      <td>USC00516128</td>\n",
       "      <td>2017-08-22</td>\n",
       "      <td>0.50</td>\n",
       "      <td>76.0</td>\n",
       "    </tr>\n",
       "    <tr>\n",
       "      <th>19549</th>\n",
       "      <td>19550</td>\n",
       "      <td>USC00516128</td>\n",
       "      <td>2017-08-23</td>\n",
       "      <td>0.45</td>\n",
       "      <td>76.0</td>\n",
       "    </tr>\n",
       "  </tbody>\n",
       "</table>\n",
       "<p>19550 rows × 5 columns</p>\n",
       "</div>"
      ],
      "text/plain": [
       "          id      station        date  prcp  tobs\n",
       "0          1  USC00519397  2010-01-01  0.08  65.0\n",
       "1          2  USC00519397  2010-01-02  0.00  63.0\n",
       "2          3  USC00519397  2010-01-03  0.00  74.0\n",
       "3          4  USC00519397  2010-01-04  0.00  76.0\n",
       "4          5  USC00519397  2010-01-06   NaN  73.0\n",
       "...      ...          ...         ...   ...   ...\n",
       "19545  19546  USC00516128  2017-08-19  0.09  71.0\n",
       "19546  19547  USC00516128  2017-08-20   NaN  78.0\n",
       "19547  19548  USC00516128  2017-08-21  0.56  76.0\n",
       "19548  19549  USC00516128  2017-08-22  0.50  76.0\n",
       "19549  19550  USC00516128  2017-08-23  0.45  76.0\n",
       "\n",
       "[19550 rows x 5 columns]"
      ]
     },
     "metadata": {},
     "output_type": "display_data"
    },
    {
     "data": {
      "text/html": [
       "<div>\n",
       "<style scoped>\n",
       "    .dataframe tbody tr th:only-of-type {\n",
       "        vertical-align: middle;\n",
       "    }\n",
       "\n",
       "    .dataframe tbody tr th {\n",
       "        vertical-align: top;\n",
       "    }\n",
       "\n",
       "    .dataframe thead th {\n",
       "        text-align: right;\n",
       "    }\n",
       "</style>\n",
       "<table border=\"1\" class=\"dataframe\">\n",
       "  <thead>\n",
       "    <tr style=\"text-align: right;\">\n",
       "      <th></th>\n",
       "      <th>id</th>\n",
       "      <th>station</th>\n",
       "      <th>name</th>\n",
       "      <th>latitude</th>\n",
       "      <th>longitude</th>\n",
       "      <th>elevation</th>\n",
       "    </tr>\n",
       "  </thead>\n",
       "  <tbody>\n",
       "    <tr>\n",
       "      <th>0</th>\n",
       "      <td>1</td>\n",
       "      <td>USC00519397</td>\n",
       "      <td>WAIKIKI 717.2, HI US</td>\n",
       "      <td>21.27160</td>\n",
       "      <td>-157.81680</td>\n",
       "      <td>3.0</td>\n",
       "    </tr>\n",
       "    <tr>\n",
       "      <th>1</th>\n",
       "      <td>2</td>\n",
       "      <td>USC00513117</td>\n",
       "      <td>KANEOHE 838.1, HI US</td>\n",
       "      <td>21.42340</td>\n",
       "      <td>-157.80150</td>\n",
       "      <td>14.6</td>\n",
       "    </tr>\n",
       "    <tr>\n",
       "      <th>2</th>\n",
       "      <td>3</td>\n",
       "      <td>USC00514830</td>\n",
       "      <td>KUALOA RANCH HEADQUARTERS 886.9, HI US</td>\n",
       "      <td>21.52130</td>\n",
       "      <td>-157.83740</td>\n",
       "      <td>7.0</td>\n",
       "    </tr>\n",
       "    <tr>\n",
       "      <th>3</th>\n",
       "      <td>4</td>\n",
       "      <td>USC00517948</td>\n",
       "      <td>PEARL CITY, HI US</td>\n",
       "      <td>21.39340</td>\n",
       "      <td>-157.97510</td>\n",
       "      <td>11.9</td>\n",
       "    </tr>\n",
       "    <tr>\n",
       "      <th>4</th>\n",
       "      <td>5</td>\n",
       "      <td>USC00518838</td>\n",
       "      <td>UPPER WAHIAWA 874.3, HI US</td>\n",
       "      <td>21.49920</td>\n",
       "      <td>-158.01110</td>\n",
       "      <td>306.6</td>\n",
       "    </tr>\n",
       "    <tr>\n",
       "      <th>5</th>\n",
       "      <td>6</td>\n",
       "      <td>USC00519523</td>\n",
       "      <td>WAIMANALO EXPERIMENTAL FARM, HI US</td>\n",
       "      <td>21.33556</td>\n",
       "      <td>-157.71139</td>\n",
       "      <td>19.5</td>\n",
       "    </tr>\n",
       "    <tr>\n",
       "      <th>6</th>\n",
       "      <td>7</td>\n",
       "      <td>USC00519281</td>\n",
       "      <td>WAIHEE 837.5, HI US</td>\n",
       "      <td>21.45167</td>\n",
       "      <td>-157.84889</td>\n",
       "      <td>32.9</td>\n",
       "    </tr>\n",
       "    <tr>\n",
       "      <th>7</th>\n",
       "      <td>8</td>\n",
       "      <td>USC00511918</td>\n",
       "      <td>HONOLULU OBSERVATORY 702.2, HI US</td>\n",
       "      <td>21.31520</td>\n",
       "      <td>-157.99920</td>\n",
       "      <td>0.9</td>\n",
       "    </tr>\n",
       "    <tr>\n",
       "      <th>8</th>\n",
       "      <td>9</td>\n",
       "      <td>USC00516128</td>\n",
       "      <td>MANOA LYON ARBO 785.2, HI US</td>\n",
       "      <td>21.33310</td>\n",
       "      <td>-157.80250</td>\n",
       "      <td>152.4</td>\n",
       "    </tr>\n",
       "  </tbody>\n",
       "</table>\n",
       "</div>"
      ],
      "text/plain": [
       "   id      station                                    name  latitude  \\\n",
       "0   1  USC00519397                    WAIKIKI 717.2, HI US  21.27160   \n",
       "1   2  USC00513117                    KANEOHE 838.1, HI US  21.42340   \n",
       "2   3  USC00514830  KUALOA RANCH HEADQUARTERS 886.9, HI US  21.52130   \n",
       "3   4  USC00517948                       PEARL CITY, HI US  21.39340   \n",
       "4   5  USC00518838              UPPER WAHIAWA 874.3, HI US  21.49920   \n",
       "5   6  USC00519523      WAIMANALO EXPERIMENTAL FARM, HI US  21.33556   \n",
       "6   7  USC00519281                     WAIHEE 837.5, HI US  21.45167   \n",
       "7   8  USC00511918       HONOLULU OBSERVATORY 702.2, HI US  21.31520   \n",
       "8   9  USC00516128            MANOA LYON ARBO 785.2, HI US  21.33310   \n",
       "\n",
       "   longitude  elevation  \n",
       "0 -157.81680        3.0  \n",
       "1 -157.80150       14.6  \n",
       "2 -157.83740        7.0  \n",
       "3 -157.97510       11.9  \n",
       "4 -158.01110      306.6  \n",
       "5 -157.71139       19.5  \n",
       "6 -157.84889       32.9  \n",
       "7 -157.99920        0.9  \n",
       "8 -157.80250      152.4  "
      ]
     },
     "metadata": {},
     "output_type": "display_data"
    },
    {
     "data": {
      "text/plain": [
       "id           int64\n",
       "station     object\n",
       "date        object\n",
       "prcp       float64\n",
       "tobs       float64\n",
       "dtype: object"
      ]
     },
     "metadata": {},
     "output_type": "display_data"
    },
    {
     "data": {
      "text/plain": [
       "id         19550\n",
       "station    19550\n",
       "date       19550\n",
       "prcp       18103\n",
       "tobs       19550\n",
       "dtype: int64"
      ]
     },
     "metadata": {},
     "output_type": "display_data"
    }
   ],
   "source": [
    "measurement_df = pd.read_sql(\"SELECT * FROM measurement\",con = engine)\n",
    "station_df = pd.read_sql(\"SELECT * FROM station\",con = engine)\n",
    "\n",
    "#Verify data import\n",
    "display(measurement_df)\n",
    "display(station_df)\n",
    "display(measurement_df.dtypes)\n",
    "display(measurement_df.count())"
   ]
  },
  {
   "cell_type": "markdown",
   "id": "f5aa083a-9cce-4c6c-926d-af0a6eb0acdc",
   "metadata": {},
   "source": [
    "## Precipitation Analysis"
   ]
  },
  {
   "cell_type": "code",
   "execution_count": 78,
   "id": "421ff4ce-a962-4b71-8526-8723be3554e3",
   "metadata": {},
   "outputs": [
    {
     "data": {
      "text/html": [
       "<div>\n",
       "<style scoped>\n",
       "    .dataframe tbody tr th:only-of-type {\n",
       "        vertical-align: middle;\n",
       "    }\n",
       "\n",
       "    .dataframe tbody tr th {\n",
       "        vertical-align: top;\n",
       "    }\n",
       "\n",
       "    .dataframe thead th {\n",
       "        text-align: right;\n",
       "    }\n",
       "</style>\n",
       "<table border=\"1\" class=\"dataframe\">\n",
       "  <thead>\n",
       "    <tr style=\"text-align: right;\">\n",
       "      <th></th>\n",
       "      <th>Precipitation</th>\n",
       "    </tr>\n",
       "    <tr>\n",
       "      <th>Date</th>\n",
       "      <th></th>\n",
       "    </tr>\n",
       "  </thead>\n",
       "  <tbody>\n",
       "    <tr>\n",
       "      <th>2016-08-24</th>\n",
       "      <td>0.08</td>\n",
       "    </tr>\n",
       "    <tr>\n",
       "      <th>2016-08-24</th>\n",
       "      <td>2.15</td>\n",
       "    </tr>\n",
       "    <tr>\n",
       "      <th>2016-08-24</th>\n",
       "      <td>2.28</td>\n",
       "    </tr>\n",
       "    <tr>\n",
       "      <th>2016-08-24</th>\n",
       "      <td>1.22</td>\n",
       "    </tr>\n",
       "    <tr>\n",
       "      <th>2016-08-24</th>\n",
       "      <td>2.15</td>\n",
       "    </tr>\n",
       "    <tr>\n",
       "      <th>...</th>\n",
       "      <td>...</td>\n",
       "    </tr>\n",
       "    <tr>\n",
       "      <th>2017-08-22</th>\n",
       "      <td>0.50</td>\n",
       "    </tr>\n",
       "    <tr>\n",
       "      <th>2017-08-23</th>\n",
       "      <td>0.00</td>\n",
       "    </tr>\n",
       "    <tr>\n",
       "      <th>2017-08-23</th>\n",
       "      <td>0.00</td>\n",
       "    </tr>\n",
       "    <tr>\n",
       "      <th>2017-08-23</th>\n",
       "      <td>0.08</td>\n",
       "    </tr>\n",
       "    <tr>\n",
       "      <th>2017-08-23</th>\n",
       "      <td>0.45</td>\n",
       "    </tr>\n",
       "  </tbody>\n",
       "</table>\n",
       "<p>2015 rows × 1 columns</p>\n",
       "</div>"
      ],
      "text/plain": [
       "            Precipitation\n",
       "Date                     \n",
       "2016-08-24           0.08\n",
       "2016-08-24           2.15\n",
       "2016-08-24           2.28\n",
       "2016-08-24           1.22\n",
       "2016-08-24           2.15\n",
       "...                   ...\n",
       "2017-08-22           0.50\n",
       "2017-08-23           0.00\n",
       "2017-08-23           0.00\n",
       "2017-08-23           0.08\n",
       "2017-08-23           0.45\n",
       "\n",
       "[2015 rows x 1 columns]"
      ]
     },
     "execution_count": 78,
     "metadata": {},
     "output_type": "execute_result"
    }
   ],
   "source": [
    "\n",
    "rainfall = pd.read_sql(\"\"\"\n",
    "SELECT date AS Date, prcp As Precipitation\n",
    "FROM measurement \n",
    "WHERE Date > DATE('2016-08-23')\n",
    "ORDER BY Date ASC;\n",
    "                       \"\"\",con = engine).dropna().set_index(\"Date\")\n",
    "rainfall"
   ]
  },
  {
   "cell_type": "code",
   "execution_count": 79,
   "id": "446deda9-e727-4f50-b4bd-1213104c5382",
   "metadata": {},
   "outputs": [
    {
     "data": {
      "text/plain": [
       "<AxesSubplot:xlabel='Date'>"
      ]
     },
     "execution_count": 79,
     "metadata": {},
     "output_type": "execute_result"
    },
    {
     "data": {
      "image/png": "[encoded data removed]",
      "text/plain": [
       "<Figure size 432x288 with 1 Axes>"
      ]
     },
     "metadata": {
      "needs_background": "light"
     },
     "output_type": "display_data"
    }
   ],
   "source": [
    "rainfall.plot()"
   ]
  },
  {
   "cell_type": "code",
   "execution_count": 80,
   "id": "aab4789b-057a-413b-9bbf-e882f9f41b06",
   "metadata": {},
   "outputs": [
    {
     "data": {
      "text/html": [
       "<div>\n",
       "<style scoped>\n",
       "    .dataframe tbody tr th:only-of-type {\n",
       "        vertical-align: middle;\n",
       "    }\n",
       "\n",
       "    .dataframe tbody tr th {\n",
       "        vertical-align: top;\n",
       "    }\n",
       "\n",
       "    .dataframe thead th {\n",
       "        text-align: right;\n",
       "    }\n",
       "</style>\n",
       "<table border=\"1\" class=\"dataframe\">\n",
       "  <thead>\n",
       "    <tr style=\"text-align: right;\">\n",
       "      <th></th>\n",
       "      <th>Precipitation</th>\n",
       "    </tr>\n",
       "  </thead>\n",
       "  <tbody>\n",
       "    <tr>\n",
       "      <th>count</th>\n",
       "      <td>2015.000000</td>\n",
       "    </tr>\n",
       "    <tr>\n",
       "      <th>mean</th>\n",
       "      <td>0.176462</td>\n",
       "    </tr>\n",
       "    <tr>\n",
       "      <th>std</th>\n",
       "      <td>0.460288</td>\n",
       "    </tr>\n",
       "    <tr>\n",
       "      <th>min</th>\n",
       "      <td>0.000000</td>\n",
       "    </tr>\n",
       "    <tr>\n",
       "      <th>25%</th>\n",
       "      <td>0.000000</td>\n",
       "    </tr>\n",
       "    <tr>\n",
       "      <th>50%</th>\n",
       "      <td>0.020000</td>\n",
       "    </tr>\n",
       "    <tr>\n",
       "      <th>75%</th>\n",
       "      <td>0.130000</td>\n",
       "    </tr>\n",
       "    <tr>\n",
       "      <th>max</th>\n",
       "      <td>6.700000</td>\n",
       "    </tr>\n",
       "  </tbody>\n",
       "</table>\n",
       "</div>"
      ],
      "text/plain": [
       "       Precipitation\n",
       "count    2015.000000\n",
       "mean        0.176462\n",
       "std         0.460288\n",
       "min         0.000000\n",
       "25%         0.000000\n",
       "50%         0.020000\n",
       "75%         0.130000\n",
       "max         6.700000"
      ]
     },
     "execution_count": 80,
     "metadata": {},
     "output_type": "execute_result"
    }
   ],
   "source": [
    "rainfall.describe()"
   ]
  },
  {
   "cell_type": "markdown",
   "id": "c7ef10d9-06e4-42c1-91ae-59bbac1752c8",
   "metadata": {},
   "source": [
    "## Station Analysis"
   ]
  },
  {
   "cell_type": "code",
   "execution_count": 81,
   "id": "61ca6e2b-254b-4392-a397-7fff1315b5d5",
   "metadata": {},
   "outputs": [
    {
     "data": {
      "text/plain": [
       "9"
      ]
     },
     "execution_count": 81,
     "metadata": {},
     "output_type": "execute_result"
    }
   ],
   "source": [
    "station_df[\"station\"].count()"
   ]
  },
  {
   "cell_type": "code",
   "execution_count": 103,
   "id": "2cc8c6dd-22bc-4458-ab98-7f90b0e89a68",
   "metadata": {},
   "outputs": [
    {
     "data": {
      "text/plain": [
       "['USC00519281']"
      ]
     },
     "metadata": {},
     "output_type": "display_data"
    }
   ],
   "source": [
    "#Query most active station\n",
    "\n",
    "ma = list(np.ravel(pd.read_sql(\"\"\"\n",
    "SELECT station\n",
    "FROM measurement\n",
    "GROUP BY station\n",
    "ORDER BY count(prcp) DESC\n",
    "LIMIT 1;\n",
    "\"\"\",con = engine)))\n",
    "display(ma)"
   ]
  },
  {
   "cell_type": "code",
   "execution_count": 105,
   "id": "51c32732-926a-42ac-a3d5-9411c6c41917",
   "metadata": {},
   "outputs": [
    {
     "data": {
      "text/html": [
       "<div>\n",
       "<style scoped>\n",
       "    .dataframe tbody tr th:only-of-type {\n",
       "        vertical-align: middle;\n",
       "    }\n",
       "\n",
       "    .dataframe tbody tr th {\n",
       "        vertical-align: top;\n",
       "    }\n",
       "\n",
       "    .dataframe thead th {\n",
       "        text-align: right;\n",
       "    }\n",
       "</style>\n",
       "<table border=\"1\" class=\"dataframe\">\n",
       "  <thead>\n",
       "    <tr style=\"text-align: right;\">\n",
       "      <th></th>\n",
       "      <th>Temperature</th>\n",
       "    </tr>\n",
       "  </thead>\n",
       "  <tbody>\n",
       "    <tr>\n",
       "      <th>0</th>\n",
       "      <td>77.0</td>\n",
       "    </tr>\n",
       "    <tr>\n",
       "      <th>1</th>\n",
       "      <td>80.0</td>\n",
       "    </tr>\n",
       "    <tr>\n",
       "      <th>2</th>\n",
       "      <td>80.0</td>\n",
       "    </tr>\n",
       "    <tr>\n",
       "      <th>3</th>\n",
       "      <td>75.0</td>\n",
       "    </tr>\n",
       "    <tr>\n",
       "      <th>4</th>\n",
       "      <td>73.0</td>\n",
       "    </tr>\n",
       "    <tr>\n",
       "      <th>...</th>\n",
       "      <td>...</td>\n",
       "    </tr>\n",
       "    <tr>\n",
       "      <th>346</th>\n",
       "      <td>77.0</td>\n",
       "    </tr>\n",
       "    <tr>\n",
       "      <th>347</th>\n",
       "      <td>77.0</td>\n",
       "    </tr>\n",
       "    <tr>\n",
       "      <th>348</th>\n",
       "      <td>76.0</td>\n",
       "    </tr>\n",
       "    <tr>\n",
       "      <th>349</th>\n",
       "      <td>76.0</td>\n",
       "    </tr>\n",
       "    <tr>\n",
       "      <th>350</th>\n",
       "      <td>79.0</td>\n",
       "    </tr>\n",
       "  </tbody>\n",
       "</table>\n",
       "<p>351 rows × 1 columns</p>\n",
       "</div>"
      ],
      "text/plain": [
       "     Temperature\n",
       "0           77.0\n",
       "1           80.0\n",
       "2           80.0\n",
       "3           75.0\n",
       "4           73.0\n",
       "..           ...\n",
       "346         77.0\n",
       "347         77.0\n",
       "348         76.0\n",
       "349         76.0\n",
       "350         79.0\n",
       "\n",
       "[351 rows x 1 columns]"
      ]
     },
     "metadata": {},
     "output_type": "display_data"
    }
   ],
   "source": [
    "# Query last year of temperature data for most active station\n",
    "activestation_data = pd.read_sql(\"\"\"\n",
    "SELECT tobs AS Temperature\n",
    "FROM  measurement\n",
    "WHERE Date > DATE('2016-08-23') AND station = :ma\"\"\",params={\"ma\":ma[0]}, con = engine)\n",
    "display(activestation_data)"
   ]
  },
  {
   "cell_type": "code",
   "execution_count": 106,
   "id": "231dc7c8-1407-48f0-a5cb-8d19cf787b47",
   "metadata": {},
   "outputs": [
    {
     "data": {
      "text/plain": [
       "<AxesSubplot:ylabel='Frequency'>"
      ]
     },
     "execution_count": 106,
     "metadata": {},
     "output_type": "execute_result"
    },
    {
     "data": {
      "image/png": "[encoded data removed]",
      "text/plain": [
       "<Figure size 432x288 with 1 Axes>"
      ]
     },
     "metadata": {
      "needs_background": "light"
     },
     "output_type": "display_data"
    }
   ],
   "source": [
    "activestation_data.plot.hist(bins = 12)"
   ]
  },
  {
   "cell_type": "markdown",
   "id": "d56ff7e5-444b-4d39-abae-8813063b4dd6",
   "metadata": {},
   "source": [
    "## Temperature Analysis"
   ]
  },
  {
   "cell_type": "code",
   "execution_count": 155,
   "id": "85c0a6f8-3b5b-463c-8cbd-55479e723b73",
   "metadata": {},
   "outputs": [
    {
     "data": {
      "text/html": [
       "<div>\n",
       "<style scoped>\n",
       "    .dataframe tbody tr th:only-of-type {\n",
       "        vertical-align: middle;\n",
       "    }\n",
       "\n",
       "    .dataframe tbody tr th {\n",
       "        vertical-align: top;\n",
       "    }\n",
       "\n",
       "    .dataframe thead th {\n",
       "        text-align: right;\n",
       "    }\n",
       "</style>\n",
       "<table border=\"1\" class=\"dataframe\">\n",
       "  <thead>\n",
       "    <tr style=\"text-align: right;\">\n",
       "      <th></th>\n",
       "      <th>Jun_date</th>\n",
       "      <th>Jun_temp</th>\n",
       "      <th>station</th>\n",
       "      <th>cc</th>\n",
       "    </tr>\n",
       "  </thead>\n",
       "  <tbody>\n",
       "    <tr>\n",
       "      <th>0</th>\n",
       "      <td>2010-06-01</td>\n",
       "      <td>78.0</td>\n",
       "      <td>USC00519397</td>\n",
       "      <td>0</td>\n",
       "    </tr>\n",
       "    <tr>\n",
       "      <th>1</th>\n",
       "      <td>2010-06-02</td>\n",
       "      <td>76.0</td>\n",
       "      <td>USC00519397</td>\n",
       "      <td>1</td>\n",
       "    </tr>\n",
       "    <tr>\n",
       "      <th>2</th>\n",
       "      <td>2010-06-03</td>\n",
       "      <td>78.0</td>\n",
       "      <td>USC00519397</td>\n",
       "      <td>2</td>\n",
       "    </tr>\n",
       "    <tr>\n",
       "      <th>3</th>\n",
       "      <td>2010-06-04</td>\n",
       "      <td>76.0</td>\n",
       "      <td>USC00519397</td>\n",
       "      <td>3</td>\n",
       "    </tr>\n",
       "    <tr>\n",
       "      <th>4</th>\n",
       "      <td>2010-06-05</td>\n",
       "      <td>77.0</td>\n",
       "      <td>USC00519397</td>\n",
       "      <td>4</td>\n",
       "    </tr>\n",
       "    <tr>\n",
       "      <th>...</th>\n",
       "      <td>...</td>\n",
       "      <td>...</td>\n",
       "      <td>...</td>\n",
       "      <td>...</td>\n",
       "    </tr>\n",
       "    <tr>\n",
       "      <th>1695</th>\n",
       "      <td>2017-06-26</td>\n",
       "      <td>79.0</td>\n",
       "      <td>USC00516128</td>\n",
       "      <td>218</td>\n",
       "    </tr>\n",
       "    <tr>\n",
       "      <th>1696</th>\n",
       "      <td>2017-06-27</td>\n",
       "      <td>74.0</td>\n",
       "      <td>USC00516128</td>\n",
       "      <td>219</td>\n",
       "    </tr>\n",
       "    <tr>\n",
       "      <th>1697</th>\n",
       "      <td>2017-06-28</td>\n",
       "      <td>74.0</td>\n",
       "      <td>USC00516128</td>\n",
       "      <td>220</td>\n",
       "    </tr>\n",
       "    <tr>\n",
       "      <th>1698</th>\n",
       "      <td>2017-06-29</td>\n",
       "      <td>76.0</td>\n",
       "      <td>USC00516128</td>\n",
       "      <td>221</td>\n",
       "    </tr>\n",
       "    <tr>\n",
       "      <th>1699</th>\n",
       "      <td>2017-06-30</td>\n",
       "      <td>75.0</td>\n",
       "      <td>USC00516128</td>\n",
       "      <td>222</td>\n",
       "    </tr>\n",
       "  </tbody>\n",
       "</table>\n",
       "<p>1700 rows × 4 columns</p>\n",
       "</div>"
      ],
      "text/plain": [
       "        Jun_date  Jun_temp      station   cc\n",
       "0     2010-06-01      78.0  USC00519397    0\n",
       "1     2010-06-02      76.0  USC00519397    1\n",
       "2     2010-06-03      78.0  USC00519397    2\n",
       "3     2010-06-04      76.0  USC00519397    3\n",
       "4     2010-06-05      77.0  USC00519397    4\n",
       "...          ...       ...          ...  ...\n",
       "1695  2017-06-26      79.0  USC00516128  218\n",
       "1696  2017-06-27      74.0  USC00516128  219\n",
       "1697  2017-06-28      74.0  USC00516128  220\n",
       "1698  2017-06-29      76.0  USC00516128  221\n",
       "1699  2017-06-30      75.0  USC00516128  222\n",
       "\n",
       "[1700 rows x 4 columns]"
      ]
     },
     "metadata": {},
     "output_type": "display_data"
    }
   ],
   "source": [
    "# Thank you to stackoverflow user piRSquarted for guidance on merging with duplicate keys\n",
    "june_temps = pd.read_sql(\"\"\"\n",
    "SELECT date AS Jun_date, tobs AS Jun_temp,station\n",
    "FROM measurement\n",
    "WHERE strftime(\"%m\",date) = '06'\n",
    "\"\"\",con =engine)\n",
    "june_temps['cc'] = june_temps.groupby('station').cumcount()\n",
    "display(june_temps)"
   ]
  },
  {
   "cell_type": "code",
   "execution_count": 156,
   "id": "566b839e-c160-41f3-80ec-b7ce781e8f6b",
   "metadata": {},
   "outputs": [
    {
     "data": {
      "text/html": [
       "<div>\n",
       "<style scoped>\n",
       "    .dataframe tbody tr th:only-of-type {\n",
       "        vertical-align: middle;\n",
       "    }\n",
       "\n",
       "    .dataframe tbody tr th {\n",
       "        vertical-align: top;\n",
       "    }\n",
       "\n",
       "    .dataframe thead th {\n",
       "        text-align: right;\n",
       "    }\n",
       "</style>\n",
       "<table border=\"1\" class=\"dataframe\">\n",
       "  <thead>\n",
       "    <tr style=\"text-align: right;\">\n",
       "      <th></th>\n",
       "      <th>Dec_date</th>\n",
       "      <th>Dec_temp</th>\n",
       "      <th>station</th>\n",
       "      <th>cc</th>\n",
       "    </tr>\n",
       "  </thead>\n",
       "  <tbody>\n",
       "    <tr>\n",
       "      <th>0</th>\n",
       "      <td>2010-12-01</td>\n",
       "      <td>76.0</td>\n",
       "      <td>USC00519397</td>\n",
       "      <td>0</td>\n",
       "    </tr>\n",
       "    <tr>\n",
       "      <th>1</th>\n",
       "      <td>2010-12-03</td>\n",
       "      <td>74.0</td>\n",
       "      <td>USC00519397</td>\n",
       "      <td>1</td>\n",
       "    </tr>\n",
       "    <tr>\n",
       "      <th>2</th>\n",
       "      <td>2010-12-04</td>\n",
       "      <td>74.0</td>\n",
       "      <td>USC00519397</td>\n",
       "      <td>2</td>\n",
       "    </tr>\n",
       "    <tr>\n",
       "      <th>3</th>\n",
       "      <td>2010-12-06</td>\n",
       "      <td>64.0</td>\n",
       "      <td>USC00519397</td>\n",
       "      <td>3</td>\n",
       "    </tr>\n",
       "    <tr>\n",
       "      <th>4</th>\n",
       "      <td>2010-12-07</td>\n",
       "      <td>64.0</td>\n",
       "      <td>USC00519397</td>\n",
       "      <td>4</td>\n",
       "    </tr>\n",
       "    <tr>\n",
       "      <th>...</th>\n",
       "      <td>...</td>\n",
       "      <td>...</td>\n",
       "      <td>...</td>\n",
       "      <td>...</td>\n",
       "    </tr>\n",
       "    <tr>\n",
       "      <th>1512</th>\n",
       "      <td>2016-12-27</td>\n",
       "      <td>71.0</td>\n",
       "      <td>USC00516128</td>\n",
       "      <td>201</td>\n",
       "    </tr>\n",
       "    <tr>\n",
       "      <th>1513</th>\n",
       "      <td>2016-12-28</td>\n",
       "      <td>71.0</td>\n",
       "      <td>USC00516128</td>\n",
       "      <td>202</td>\n",
       "    </tr>\n",
       "    <tr>\n",
       "      <th>1514</th>\n",
       "      <td>2016-12-29</td>\n",
       "      <td>69.0</td>\n",
       "      <td>USC00516128</td>\n",
       "      <td>203</td>\n",
       "    </tr>\n",
       "    <tr>\n",
       "      <th>1515</th>\n",
       "      <td>2016-12-30</td>\n",
       "      <td>65.0</td>\n",
       "      <td>USC00516128</td>\n",
       "      <td>204</td>\n",
       "    </tr>\n",
       "    <tr>\n",
       "      <th>1516</th>\n",
       "      <td>2016-12-31</td>\n",
       "      <td>65.0</td>\n",
       "      <td>USC00516128</td>\n",
       "      <td>205</td>\n",
       "    </tr>\n",
       "  </tbody>\n",
       "</table>\n",
       "<p>1517 rows × 4 columns</p>\n",
       "</div>"
      ],
      "text/plain": [
       "        Dec_date  Dec_temp      station   cc\n",
       "0     2010-12-01      76.0  USC00519397    0\n",
       "1     2010-12-03      74.0  USC00519397    1\n",
       "2     2010-12-04      74.0  USC00519397    2\n",
       "3     2010-12-06      64.0  USC00519397    3\n",
       "4     2010-12-07      64.0  USC00519397    4\n",
       "...          ...       ...          ...  ...\n",
       "1512  2016-12-27      71.0  USC00516128  201\n",
       "1513  2016-12-28      71.0  USC00516128  202\n",
       "1514  2016-12-29      69.0  USC00516128  203\n",
       "1515  2016-12-30      65.0  USC00516128  204\n",
       "1516  2016-12-31      65.0  USC00516128  205\n",
       "\n",
       "[1517 rows x 4 columns]"
      ]
     },
     "metadata": {},
     "output_type": "display_data"
    }
   ],
   "source": [
    "# Thank you to stackoverflow user piRSquarted for guidance on merging with duplicate keys\n",
    "december_temps = pd.read_sql(\"\"\"\n",
    "SELECT date AS Dec_date, tobs AS Dec_temp,station\n",
    "FROM measurement\n",
    "WHERE strftime(\"%m\",date) = '12';\n",
    "\"\"\",con =engine)\n",
    "december_temps['cc'] = december_temps.groupby('station').cumcount()\n",
    "display(december_temps)"
   ]
  },
  {
   "cell_type": "code",
   "execution_count": 157,
   "id": "27c6dc26-e5b1-4377-bdc5-34f0534f2eb1",
   "metadata": {},
   "outputs": [],
   "source": [
    "temps_merge = pd.merge(december_temps,june_temps, on=['station','cc'],how = 'left').drop('cc',1)"
   ]
  },
  {
   "cell_type": "code",
   "execution_count": 158,
   "id": "7d5c374f-f80d-4cd8-8b17-dc5b108c9779",
   "metadata": {},
   "outputs": [
    {
     "data": {
      "text/html": [
       "<div>\n",
       "<style scoped>\n",
       "    .dataframe tbody tr th:only-of-type {\n",
       "        vertical-align: middle;\n",
       "    }\n",
       "\n",
       "    .dataframe tbody tr th {\n",
       "        vertical-align: top;\n",
       "    }\n",
       "\n",
       "    .dataframe thead th {\n",
       "        text-align: right;\n",
       "    }\n",
       "</style>\n",
       "<table border=\"1\" class=\"dataframe\">\n",
       "  <thead>\n",
       "    <tr style=\"text-align: right;\">\n",
       "      <th></th>\n",
       "      <th>Dec_date</th>\n",
       "      <th>Dec_temp</th>\n",
       "      <th>station</th>\n",
       "      <th>Jun_date</th>\n",
       "      <th>Jun_temp</th>\n",
       "    </tr>\n",
       "  </thead>\n",
       "  <tbody>\n",
       "    <tr>\n",
       "      <th>0</th>\n",
       "      <td>2010-12-01</td>\n",
       "      <td>76.0</td>\n",
       "      <td>USC00519397</td>\n",
       "      <td>2010-06-01</td>\n",
       "      <td>78.0</td>\n",
       "    </tr>\n",
       "    <tr>\n",
       "      <th>1</th>\n",
       "      <td>2010-12-03</td>\n",
       "      <td>74.0</td>\n",
       "      <td>USC00519397</td>\n",
       "      <td>2010-06-02</td>\n",
       "      <td>76.0</td>\n",
       "    </tr>\n",
       "    <tr>\n",
       "      <th>2</th>\n",
       "      <td>2010-12-04</td>\n",
       "      <td>74.0</td>\n",
       "      <td>USC00519397</td>\n",
       "      <td>2010-06-03</td>\n",
       "      <td>78.0</td>\n",
       "    </tr>\n",
       "    <tr>\n",
       "      <th>3</th>\n",
       "      <td>2010-12-06</td>\n",
       "      <td>64.0</td>\n",
       "      <td>USC00519397</td>\n",
       "      <td>2010-06-04</td>\n",
       "      <td>76.0</td>\n",
       "    </tr>\n",
       "    <tr>\n",
       "      <th>4</th>\n",
       "      <td>2010-12-07</td>\n",
       "      <td>64.0</td>\n",
       "      <td>USC00519397</td>\n",
       "      <td>2010-06-05</td>\n",
       "      <td>77.0</td>\n",
       "    </tr>\n",
       "    <tr>\n",
       "      <th>...</th>\n",
       "      <td>...</td>\n",
       "      <td>...</td>\n",
       "      <td>...</td>\n",
       "      <td>...</td>\n",
       "      <td>...</td>\n",
       "    </tr>\n",
       "    <tr>\n",
       "      <th>1512</th>\n",
       "      <td>2016-12-27</td>\n",
       "      <td>71.0</td>\n",
       "      <td>USC00516128</td>\n",
       "      <td>2017-06-08</td>\n",
       "      <td>75.0</td>\n",
       "    </tr>\n",
       "    <tr>\n",
       "      <th>1513</th>\n",
       "      <td>2016-12-28</td>\n",
       "      <td>71.0</td>\n",
       "      <td>USC00516128</td>\n",
       "      <td>2017-06-10</td>\n",
       "      <td>72.0</td>\n",
       "    </tr>\n",
       "    <tr>\n",
       "      <th>1514</th>\n",
       "      <td>2016-12-29</td>\n",
       "      <td>69.0</td>\n",
       "      <td>USC00516128</td>\n",
       "      <td>2017-06-11</td>\n",
       "      <td>76.0</td>\n",
       "    </tr>\n",
       "    <tr>\n",
       "      <th>1515</th>\n",
       "      <td>2016-12-30</td>\n",
       "      <td>65.0</td>\n",
       "      <td>USC00516128</td>\n",
       "      <td>2017-06-12</td>\n",
       "      <td>74.0</td>\n",
       "    </tr>\n",
       "    <tr>\n",
       "      <th>1516</th>\n",
       "      <td>2016-12-31</td>\n",
       "      <td>65.0</td>\n",
       "      <td>USC00516128</td>\n",
       "      <td>2017-06-13</td>\n",
       "      <td>73.0</td>\n",
       "    </tr>\n",
       "  </tbody>\n",
       "</table>\n",
       "<p>1517 rows × 5 columns</p>\n",
       "</div>"
      ],
      "text/plain": [
       "        Dec_date  Dec_temp      station    Jun_date  Jun_temp\n",
       "0     2010-12-01      76.0  USC00519397  2010-06-01      78.0\n",
       "1     2010-12-03      74.0  USC00519397  2010-06-02      76.0\n",
       "2     2010-12-04      74.0  USC00519397  2010-06-03      78.0\n",
       "3     2010-12-06      64.0  USC00519397  2010-06-04      76.0\n",
       "4     2010-12-07      64.0  USC00519397  2010-06-05      77.0\n",
       "...          ...       ...          ...         ...       ...\n",
       "1512  2016-12-27      71.0  USC00516128  2017-06-08      75.0\n",
       "1513  2016-12-28      71.0  USC00516128  2017-06-10      72.0\n",
       "1514  2016-12-29      69.0  USC00516128  2017-06-11      76.0\n",
       "1515  2016-12-30      65.0  USC00516128  2017-06-12      74.0\n",
       "1516  2016-12-31      65.0  USC00516128  2017-06-13      73.0\n",
       "\n",
       "[1517 rows x 5 columns]"
      ]
     },
     "metadata": {},
     "output_type": "display_data"
    }
   ],
   "source": [
    "display(temps_merge)"
   ]
  },
  {
   "cell_type": "code",
   "execution_count": 159,
   "id": "b24a6b76-77af-449b-9dba-fe0c8bf0d3dd",
   "metadata": {},
   "outputs": [
    {
     "data": {
      "text/plain": [
       "Ttest_relResult(statistic=31.626872614066585, pvalue=5.1149843653202015e-169)"
      ]
     },
     "execution_count": 159,
     "metadata": {},
     "output_type": "execute_result"
    }
   ],
   "source": [
    "stats.ttest_rel(temps_merge['Jun_temp'],temps_merge['Dec_temp'])"
   ]
  },
  {
   "cell_type": "markdown",
   "id": "7ac9d2cd-258c-45cb-9dc9-5f158dd7179b",
   "metadata": {},
   "source": [
    "### Temperature Analysis II"
   ]
  },
  {
   "cell_type": "code",
   "execution_count": 9,
   "id": "0c47d9c4-f868-4f74-88e4-48cc9475b4a3",
   "metadata": {},
   "outputs": [],
   "source": [
    "Measurement = Base.classes.measurement\n",
    "session = Session(engine)"
   ]
  },
  {
   "cell_type": "code",
   "execution_count": 43,
   "id": "4298bf10-0453-4eba-9e2e-6c2ebb7bfbfd",
   "metadata": {},
   "outputs": [],
   "source": [
    "def calc_temps(start_date,end_date):\n",
    "    \"\"\"Returns temperature statistics for a specifieid date range\n",
    "    \n",
    "    Args:\n",
    "        start_date (string): A date string in the format ''%Y-%m-%d' 'YYYY-MM-DD'\n",
    "        end_date (string): A date string in the format ''%Y-%m-%d' 'YYYY-MM-DD'\n",
    "        \n",
    "    Returns:\n",
    "        TMIN, TAVG, and TMAX\n",
    "        \"\"\"\n",
    "    return list(np.ravel((\n",
    "        session.query(func.min(Measurement.tobs),func.avg(Measurement.tobs),func.max(Measurement.tobs))\n",
    "        .filter(Measurement.date >= start_date)\n",
    "        .filter(Measurement.date <= end_date))\n",
    "        .all()))"
   ]
  },
  {
   "cell_type": "code",
   "execution_count": 59,
   "id": "d273cb43-803f-4d17-aaf4-22dc2f13dad0",
   "metadata": {},
   "outputs": [
    {
     "name": "stdout",
     "output_type": "stream",
     "text": [
      "[56.0, 69.75, 77.0]\n"
     ]
    }
   ],
   "source": [
    "vacation_temps = calc_temps('2015-02-14','2015-03-01')\n",
    "print(vacation_temps)"
   ]
  },
  {
   "cell_type": "code",
   "execution_count": 90,
   "id": "6bad6964-c1d2-45b1-ab2c-5968c5a7f6e2",
   "metadata": {},
   "outputs": [],
   "source": [
    "def plot_temps(tmin,tavg,tmax):\n",
    "    \"\"\"Visualize the temperature summary statistics\n",
    "    \n",
    "    Args:\n",
    "        tmin: A numeric data type containing the minimum temperatre\n",
    "        tavg: A numeric data type containing the average temperature\n",
    "        tmax: A numeric data type containing the maxiumum temperature\n",
    "    \"\"\"\n",
    "    plt.bar(10,vacation_temps[1],yerr=((vacation_temps[2]-vacation_temps[0])/2))"
   ]
  },
  {
   "cell_type": "code",
   "execution_count": 92,
   "id": "76693eff-db03-4291-a965-971b7bddf6f3",
   "metadata": {},
   "outputs": [
    {
     "data": {
      "image/png": "[encoded data removed]",
      "text/plain": [
       "<Figure size 432x288 with 1 Axes>"
      ]
     },
     "metadata": {
      "needs_background": "light"
     },
     "output_type": "display_data"
    }
   ],
   "source": [
    "plot_temps(vacation_temps[0],vacation_temps[1],vacation_temps[2])"
   ]
  },
  {
   "cell_type": "markdown",
   "id": "01a906ce-af40-42ad-a406-1e275b81ae95",
   "metadata": {},
   "source": [
    "## Cumulative Rainfall\n"
   ]
  },
  {
   "cell_type": "code",
   "execution_count": 83,
   "id": "1f6d6dce-5cbd-40c1-9b7a-c324415894ef",
   "metadata": {},
   "outputs": [],
   "source": [
    "rainfall = pd.read_sql(\"\"\"\n",
    "SELECT station AS Station, SUM(prcp) As Total_Precipitation\n",
    "FROM measurement \n",
    "WHERE date > DATE('2016-08-23')\n",
    "GROUP BY station\n",
    "ORDER BY Total_Precipitation DESC;\n",
    "                       \"\"\",con = engine)"
   ]
  },
  {
   "cell_type": "code",
   "execution_count": 84,
   "id": "35946330-40c6-4522-b5c7-a2e1f94fafd1",
   "metadata": {},
   "outputs": [
    {
     "data": {
      "text/html": [
       "<div>\n",
       "<style scoped>\n",
       "    .dataframe tbody tr th:only-of-type {\n",
       "        vertical-align: middle;\n",
       "    }\n",
       "\n",
       "    .dataframe tbody tr th {\n",
       "        vertical-align: top;\n",
       "    }\n",
       "\n",
       "    .dataframe thead th {\n",
       "        text-align: right;\n",
       "    }\n",
       "</style>\n",
       "<table border=\"1\" class=\"dataframe\">\n",
       "  <thead>\n",
       "    <tr style=\"text-align: right;\">\n",
       "      <th></th>\n",
       "      <th>Station</th>\n",
       "      <th>Total_Precipitation</th>\n",
       "    </tr>\n",
       "  </thead>\n",
       "  <tbody>\n",
       "    <tr>\n",
       "      <th>0</th>\n",
       "      <td>USC00516128</td>\n",
       "      <td>147.11</td>\n",
       "    </tr>\n",
       "    <tr>\n",
       "      <th>1</th>\n",
       "      <td>USC00519281</td>\n",
       "      <td>68.24</td>\n",
       "    </tr>\n",
       "    <tr>\n",
       "      <th>2</th>\n",
       "      <td>USC00513117</td>\n",
       "      <td>48.36</td>\n",
       "    </tr>\n",
       "    <tr>\n",
       "      <th>3</th>\n",
       "      <td>USC00519523</td>\n",
       "      <td>37.99</td>\n",
       "    </tr>\n",
       "    <tr>\n",
       "      <th>4</th>\n",
       "      <td>USC00514830</td>\n",
       "      <td>33.19</td>\n",
       "    </tr>\n",
       "    <tr>\n",
       "      <th>5</th>\n",
       "      <td>USC00519397</td>\n",
       "      <td>16.09</td>\n",
       "    </tr>\n",
       "    <tr>\n",
       "      <th>6</th>\n",
       "      <td>USC00517948</td>\n",
       "      <td>4.59</td>\n",
       "    </tr>\n",
       "  </tbody>\n",
       "</table>\n",
       "</div>"
      ],
      "text/plain": [
       "       Station  Total_Precipitation\n",
       "0  USC00516128               147.11\n",
       "1  USC00519281                68.24\n",
       "2  USC00513117                48.36\n",
       "3  USC00519523                37.99\n",
       "4  USC00514830                33.19\n",
       "5  USC00519397                16.09\n",
       "6  USC00517948                 4.59"
      ]
     },
     "execution_count": 84,
     "metadata": {},
     "output_type": "execute_result"
    }
   ],
   "source": [
    "rainfall"
   ]
  },
  {
   "cell_type": "markdown",
   "id": "e009234e-64c6-4f14-8f3b-f4cd63f44845",
   "metadata": {},
   "source": [
    "## Daily Temperature Normals"
   ]
  },
  {
   "cell_type": "code",
   "execution_count": 170,
   "id": "4b5b3107-0383-40a9-bb81-2df1c47d045f",
   "metadata": {},
   "outputs": [
    {
     "data": {
      "text/plain": [
       "['62.0', '69.0', '77.0', '01-01']"
      ]
     },
     "execution_count": 170,
     "metadata": {},
     "output_type": "execute_result"
    }
   ],
   "source": [
    "def daily_normals(date):\n",
    "    \"\"\"Returns observed tmin, tavg, and tmax for a specified day based on historical data; The daily normal temperatures\n",
    "    \n",
    "    Args:\n",
    "        date (str): A date string in the format '%m-%d' ('MM-DD')\n",
    "    \n",
    "    Returns:\n",
    "        A list containing the daily normals, tmin, tavg, and tmax\n",
    "        \n",
    "    \"\"\"\n",
    "    temp_stats = [func.min(Measurement.tobs), # Minimum  observed temperature\n",
    "                  func.round(func.avg(Measurement.tobs),0), # average of all observed temperature\n",
    "                  func.max(Measurement.tobs), # Maximum observed temperature\n",
    "                  func.strftime('%m-%d',Measurement.date)] # observation date string 'MM-DD'\n",
    "    \n",
    "    #Query sqlite database using sqlalchemy\n",
    "    return list(np.ravel(\n",
    "        session.query(*temp_stats)\n",
    "        .filter(func.strftime('%m-%d',Measurement.date) ==date)\n",
    "        .all()\n",
    "    ))\n",
    "daily_normals('01-01')"
   ]
  },
  {
   "cell_type": "code",
   "execution_count": 283,
   "id": "a2345510-d40c-4d77-b032-5383074a0525",
   "metadata": {},
   "outputs": [],
   "source": [
    "def date_list(start_date,end_date):\n",
    "    \"\"\"Return a list of dates for the specified range, including the start and end date\n",
    "    \n",
    "    Args:\n",
    "        start_date (str): The date of the range, in the format '%Y-%m-%d' ('YYYY-MM-DD')\n",
    "        end_date (str): The date of the range, in the format '%Y-%m-%d' ('YYYY-MM-DD')\n",
    "    \n",
    "    Returns:\n",
    "        A list of dates in the format '%m-%d'\n",
    "        \n",
    "    \"\"\"\n",
    "    return list(np.ravel(\n",
    "        session.query(func.strftime('%m-%d',Measurement.date))\n",
    "        .filter(func.strftime('%Y-%m-%d',Measurement.date) >= start_date)\n",
    "        .filter(func.strftime('%Y-%m-%d',Measurement.date) <= end_date)\n",
    "        .group_by(Measurement.date).all()\n",
    "    ))"
   ]
  },
  {
   "cell_type": "code",
   "execution_count": 285,
   "id": "19248fa3-16ad-4ebc-850e-574e4257d3a4",
   "metadata": {},
   "outputs": [
    {
     "data": {
      "text/plain": [
       "['01-25',\n",
       " '01-26',\n",
       " '01-27',\n",
       " '01-28',\n",
       " '01-29',\n",
       " '01-30',\n",
       " '01-31',\n",
       " '02-01',\n",
       " '02-02',\n",
       " '02-03',\n",
       " '02-04',\n",
       " '02-05',\n",
       " '02-06',\n",
       " '02-07',\n",
       " '02-08',\n",
       " '02-09',\n",
       " '02-10',\n",
       " '02-11',\n",
       " '02-12',\n",
       " '02-13',\n",
       " '02-14',\n",
       " '02-15',\n",
       " '02-16',\n",
       " '02-17',\n",
       " '02-18',\n",
       " '02-19',\n",
       " '02-20',\n",
       " '02-21',\n",
       " '02-22',\n",
       " '02-23',\n",
       " '02-24',\n",
       " '02-25',\n",
       " '02-26',\n",
       " '02-27',\n",
       " '02-28',\n",
       " '03-01',\n",
       " '03-02',\n",
       " '03-03',\n",
       " '03-04',\n",
       " '03-05',\n",
       " '03-06',\n",
       " '03-07',\n",
       " '03-08',\n",
       " '03-09',\n",
       " '03-10',\n",
       " '03-11',\n",
       " '03-12',\n",
       " '03-13',\n",
       " '03-14',\n",
       " '03-15',\n",
       " '03-16',\n",
       " '03-17',\n",
       " '03-18',\n",
       " '03-19',\n",
       " '03-20',\n",
       " '03-21',\n",
       " '03-22',\n",
       " '03-23',\n",
       " '03-24',\n",
       " '03-25',\n",
       " '03-26',\n",
       " '03-27',\n",
       " '03-28',\n",
       " '03-29',\n",
       " '03-30',\n",
       " '03-31',\n",
       " '04-01',\n",
       " '04-02',\n",
       " '04-03',\n",
       " '04-04',\n",
       " '04-05',\n",
       " '04-06',\n",
       " '04-07']"
      ]
     },
     "execution_count": 285,
     "metadata": {},
     "output_type": "execute_result"
    }
   ],
   "source": [
    "test_dates = date_list('2015-01-25','2015-04-07')\n",
    "test_dates"
   ]
  },
  {
   "cell_type": "code",
   "execution_count": 257,
   "id": "79310f90-a8ad-4bc9-83b1-b0b6dd442491",
   "metadata": {},
   "outputs": [
    {
     "data": {
      "text/plain": [
       "[['63.0', '72.0', '78.0', '03-25'],\n",
       " ['64.0', '71.0', '80.0', '03-26'],\n",
       " ['63.0', '72.0', '80.0', '03-27'],\n",
       " ['59.0', '72.0', '82.0', '03-28'],\n",
       " ['58.0', '71.0', '77.0', '03-29'],\n",
       " ['62.0', '72.0', '79.0', '03-30'],\n",
       " ['61.0', '72.0', '79.0', '03-31'],\n",
       " ['60.0', '72.0', '80.0', '04-01'],\n",
       " ['53.0', '72.0', '79.0', '04-02'],\n",
       " ['55.0', '72.0', '78.0', '04-03'],\n",
       " ['58.0', '72.0', '78.0', '04-04'],\n",
       " ['61.0', '72.0', '80.0', '04-05'],\n",
       " ['67.0', '72.0', '77.0', '04-06'],\n",
       " ['63.0', '71.0', '78.0', '04-07']]"
      ]
     },
     "execution_count": 257,
     "metadata": {},
     "output_type": "execute_result"
    }
   ],
   "source": [
    "test1 =[daily_normals(x) for x in test_dates]\n",
    "test1"
   ]
  },
  {
   "cell_type": "code",
   "execution_count": 267,
   "id": "32e1ae9b-26e5-420e-83a0-980eb5106bab",
   "metadata": {},
   "outputs": [],
   "source": [
    "def normals_plot(start_date,end_date):\n",
    "    \"\"\"Build a pandas dataframe of daily normals for the specified date range, and plot the results\n",
    "        Args: \n",
    "            start_date (str): The date of the range, in the format '%Y-%m-%d' ('YYYY-MM-DD')\n",
    "            end_date (str): The date of the range, in the format '%Y-%m-%d' ('YYYY-MM-DD')  \n",
    "        Return: Visualization of the daily temperature normals\n",
    "    \"\"\"\n",
    "    \n",
    "    def date_list(start_date,end_date):\n",
    "        \"\"\"Return a list of dates for the specified range, including the start and end date\n",
    "        Args:\n",
    "            start_date (str): The date of the range, in the format '%Y-%m-%d' ('YYYY-MM-DD')\n",
    "            end_date (str): The date of the range, in the format '%Y-%m-%d' ('YYYY-MM-DD')\n",
    "        Returns:\n",
    "            A list of dates in the format '%m-%d'\n",
    "\n",
    "        \"\"\"\n",
    "        return list(np.ravel(\n",
    "            session.query(func.strftime('%m-%d',Measurement.date))\n",
    "            .filter(func.strftime('%Y-%m-%d',Measurement.date) >= start_date)\n",
    "            .filter(func.strftime('%Y-%m-%d',Measurement.date) <= end_date)\n",
    "            .group_by(Measurement.date).all()\n",
    "        ))\n",
    "\n",
    "    def daily_normals(date):\n",
    "        \"\"\"Returns observed tmin, tavg, and tmax for a specified day based on historical data; The daily normal temperatures\n",
    "        Args:\n",
    "            date (str): A date string in the format '%m-%d' ('MM-DD')\n",
    "        Returns:\n",
    "            A list containing the daily normals, tmin, tavg, and tmax\n",
    "        \"\"\"\n",
    "        #columns to return from the query\n",
    "        temp_stats = [func.min(Measurement.tobs), # Minimum  observed temperature\n",
    "                      func.round(func.avg(Measurement.tobs),0), # average of all observed temperature\n",
    "                      func.max(Measurement.tobs), # Maximum observed temperature\n",
    "                      func.strftime('%m-%d',Measurement.date)] # observation date string 'MM-DD'\n",
    "\n",
    "        #Query sqlite database using sqlalchemy\n",
    "        return list(np.ravel(\n",
    "            session.query(*temp_stats)\n",
    "            .filter(func.strftime('%m-%d',Measurement.date) == date)\n",
    "            .all()\n",
    "        ))\n",
    "    def build_df(normals):\n",
    "        \"\"\"Returns a pandas dataframe of daily normals\n",
    "            Args:\n",
    "                normals (list): A list of daily normals data in the order [tmin,tavg,tmax,date('%m-%d'])\n",
    "            Returns:\n",
    "                Pandas dataframe with the date as the index,\n",
    "                and the column headers 'Minumum Temperatre','Average Temperature','Maximum Temperature',and 'Date'\n",
    "        \"\"\"\n",
    "        \n",
    "        return (pd.DataFrame(normals,columns = ['Minimum Temperature','Average Temperature',\n",
    "                                                'Maximum Temperature','Date'])\n",
    "                .astype({'Minimum Temperature': float,'Average Temperature': float,'Maximum Temperature': float})\n",
    "                .set_index('Date'))\n",
    "    \n",
    "    specified_range = date_list(start_date,end_date)\n",
    "    return specified_range\n",
    "    #normals = [daily_normals(date) for date in specified_range]\n",
    "   # return normals\n",
    "    #normals_df = build_df(normals)\n",
    "    \n",
    "   # return normals_df.plot.area()"
   ]
  },
  {
   "cell_type": "code",
   "execution_count": 268,
   "id": "6edef511-8526-449b-9c26-a7d7778c6aaa",
   "metadata": {},
   "outputs": [
    {
     "data": {
      "text/plain": [
       "[]"
      ]
     },
     "execution_count": 268,
     "metadata": {},
     "output_type": "execute_result"
    }
   ],
   "source": [
    "normals_plot('01-01-2016','01-14-2016')"
   ]
  },
  {
   "cell_type": "code",
   "execution_count": 286,
   "id": "c0ef2115-9121-4cf7-b003-bb44304acbbb",
   "metadata": {},
   "outputs": [
    {
     "data": {
      "text/plain": [
       "[]"
      ]
     },
     "execution_count": 286,
     "metadata": {},
     "output_type": "execute_result"
    }
   ],
   "source": [
    "def date_list(start_date,end_date):\n",
    "    \"\"\"Return a list of dates for the specified range, including the start and end date\n",
    "        Args:\n",
    "            start_date (str): The date of the range, in the format '%Y-%m-%d' ('YYYY-MM-DD')\n",
    "            end_date (str): The date of the range, in the format '%Y-%m-%d' ('YYYY-MM-DD')\n",
    "        Returns:\n",
    "            A list of dates in the format '%m-%d'\n",
    "    \"\"\"\n",
    "    return list(np.ravel(\n",
    "        session.query(func.strftime('%m-%d',Measurement.date))\n",
    "        .filter(func.strftime('%Y-%m-%d',Measurement.date) >= start_date)\n",
    "        .filter(func.strftime('%Y-%m-%d',Measurement.date) <= end_date)\n",
    "        .group_by(Measurement.date).all()\n",
    "    ))\n",
    "    \n",
    "date_list('01-01-2016','01-14-2016')"
   ]
  },
  {
   "cell_type": "code",
   "execution_count": 274,
   "id": "ee25b1a1-bd05-4bc1-9275-c92151a65657",
   "metadata": {},
   "outputs": [
    {
     "data": {
      "text/plain": [
       "Minimum Temperature    float64\n",
       "Average Temperature    float64\n",
       "Maximum Temperature    float64\n",
       "dtype: object"
      ]
     },
     "execution_count": 274,
     "metadata": {},
     "output_type": "execute_result"
    }
   ],
   "source": [
    "testdf.dtypes\n"
   ]
  },
  {
   "cell_type": "code",
   "execution_count": 230,
   "id": "8a8ae34b-e9a7-4fb9-b92d-08fbfcb80e02",
   "metadata": {},
   "outputs": [],
   "source": [
    "testdf = testdf.astype({'Minimum Temperature': float,'Average Temperature': float,'Maximum Temperature': float})\n",
    "#testdf.plot.area()"
   ]
  },
  {
   "cell_type": "code",
   "execution_count": 231,
   "id": "aeb2174e-8e77-4968-89c2-b7cc45e4316c",
   "metadata": {},
   "outputs": [
    {
     "data": {
      "text/plain": [
       "Minimum Temperature    float64\n",
       "Average Temperature    float64\n",
       "Maximum Temperature    float64\n",
       "dtype: object"
      ]
     },
     "execution_count": 231,
     "metadata": {},
     "output_type": "execute_result"
    }
   ],
   "source": [
    "testdf.dtypes"
   ]
  },
  {
   "cell_type": "code",
   "execution_count": 236,
   "id": "c36df873-29c3-4504-a79c-d36884f081f2",
   "metadata": {},
   "outputs": [
    {
     "data": {
      "text/plain": [
       "<AxesSubplot:xlabel='Date'>"
      ]
     },
     "execution_count": 236,
     "metadata": {},
     "output_type": "execute_result"
    },
    {
     "data": {
      "image/png": "[encoded data removed]",
      "text/plain": [
       "<Figure size 432x288 with 1 Axes>"
      ]
     },
     "metadata": {
      "needs_background": "light"
     },
     "output_type": "display_data"
    }
   ],
   "source": [
    "testdf.plot.area(stacked = False)"
   ]
  },
  {
   "cell_type": "code",
   "execution_count": 235,
   "id": "9fd20721-1a0d-4972-a1ab-64e33591376b",
   "metadata": {},
   "outputs": [
    {
     "data": {
      "text/html": [
       "<div>\n",
       "<style scoped>\n",
       "    .dataframe tbody tr th:only-of-type {\n",
       "        vertical-align: middle;\n",
       "    }\n",
       "\n",
       "    .dataframe tbody tr th {\n",
       "        vertical-align: top;\n",
       "    }\n",
       "\n",
       "    .dataframe thead th {\n",
       "        text-align: right;\n",
       "    }\n",
       "</style>\n",
       "<table border=\"1\" class=\"dataframe\">\n",
       "  <thead>\n",
       "    <tr style=\"text-align: right;\">\n",
       "      <th></th>\n",
       "      <th>Minimum Temperature</th>\n",
       "      <th>Average Temperature</th>\n",
       "      <th>Maximum Temperature</th>\n",
       "    </tr>\n",
       "    <tr>\n",
       "      <th>Date</th>\n",
       "      <th></th>\n",
       "      <th></th>\n",
       "      <th></th>\n",
       "    </tr>\n",
       "  </thead>\n",
       "  <tbody>\n",
       "    <tr>\n",
       "      <th>03-25</th>\n",
       "      <td>63.0</td>\n",
       "      <td>72.0</td>\n",
       "      <td>78.0</td>\n",
       "    </tr>\n",
       "    <tr>\n",
       "      <th>03-26</th>\n",
       "      <td>64.0</td>\n",
       "      <td>71.0</td>\n",
       "      <td>80.0</td>\n",
       "    </tr>\n",
       "    <tr>\n",
       "      <th>03-27</th>\n",
       "      <td>63.0</td>\n",
       "      <td>72.0</td>\n",
       "      <td>80.0</td>\n",
       "    </tr>\n",
       "    <tr>\n",
       "      <th>03-28</th>\n",
       "      <td>59.0</td>\n",
       "      <td>72.0</td>\n",
       "      <td>82.0</td>\n",
       "    </tr>\n",
       "    <tr>\n",
       "      <th>03-29</th>\n",
       "      <td>58.0</td>\n",
       "      <td>71.0</td>\n",
       "      <td>77.0</td>\n",
       "    </tr>\n",
       "    <tr>\n",
       "      <th>03-30</th>\n",
       "      <td>62.0</td>\n",
       "      <td>72.0</td>\n",
       "      <td>79.0</td>\n",
       "    </tr>\n",
       "    <tr>\n",
       "      <th>03-31</th>\n",
       "      <td>61.0</td>\n",
       "      <td>72.0</td>\n",
       "      <td>79.0</td>\n",
       "    </tr>\n",
       "    <tr>\n",
       "      <th>04-01</th>\n",
       "      <td>60.0</td>\n",
       "      <td>72.0</td>\n",
       "      <td>80.0</td>\n",
       "    </tr>\n",
       "    <tr>\n",
       "      <th>04-02</th>\n",
       "      <td>53.0</td>\n",
       "      <td>72.0</td>\n",
       "      <td>79.0</td>\n",
       "    </tr>\n",
       "    <tr>\n",
       "      <th>04-03</th>\n",
       "      <td>55.0</td>\n",
       "      <td>72.0</td>\n",
       "      <td>78.0</td>\n",
       "    </tr>\n",
       "    <tr>\n",
       "      <th>04-04</th>\n",
       "      <td>58.0</td>\n",
       "      <td>72.0</td>\n",
       "      <td>78.0</td>\n",
       "    </tr>\n",
       "    <tr>\n",
       "      <th>04-05</th>\n",
       "      <td>61.0</td>\n",
       "      <td>72.0</td>\n",
       "      <td>80.0</td>\n",
       "    </tr>\n",
       "    <tr>\n",
       "      <th>04-06</th>\n",
       "      <td>67.0</td>\n",
       "      <td>72.0</td>\n",
       "      <td>77.0</td>\n",
       "    </tr>\n",
       "    <tr>\n",
       "      <th>04-07</th>\n",
       "      <td>63.0</td>\n",
       "      <td>71.0</td>\n",
       "      <td>78.0</td>\n",
       "    </tr>\n",
       "  </tbody>\n",
       "</table>\n",
       "</div>"
      ],
      "text/plain": [
       "       Minimum Temperature  Average Temperature  Maximum Temperature\n",
       "Date                                                                \n",
       "03-25                 63.0                 72.0                 78.0\n",
       "03-26                 64.0                 71.0                 80.0\n",
       "03-27                 63.0                 72.0                 80.0\n",
       "03-28                 59.0                 72.0                 82.0\n",
       "03-29                 58.0                 71.0                 77.0\n",
       "03-30                 62.0                 72.0                 79.0\n",
       "03-31                 61.0                 72.0                 79.0\n",
       "04-01                 60.0                 72.0                 80.0\n",
       "04-02                 53.0                 72.0                 79.0\n",
       "04-03                 55.0                 72.0                 78.0\n",
       "04-04                 58.0                 72.0                 78.0\n",
       "04-05                 61.0                 72.0                 80.0\n",
       "04-06                 67.0                 72.0                 77.0\n",
       "04-07                 63.0                 71.0                 78.0"
      ]
     },
     "execution_count": 235,
     "metadata": {},
     "output_type": "execute_result"
    }
   ],
   "source": [
    "testdf"
   ]
  },
  {
   "cell_type": "code",
   "execution_count": null,
   "id": "bc61b3b5-d384-4e37-b42e-da5a1f9922ca",
   "metadata": {},
   "outputs": [],
   "source": []
  }
 ],
 "metadata": {
  "kernelspec": {
   "display_name": "Python 3",
   "language": "python",
   "name": "python3"
  },
  "language_info": {
   "codemirror_mode": {
    "name": "ipython",
    "version": 3
   },
   "file_extension": ".py",
   "mimetype": "text/x-python",
   "name": "python",
   "nbconvert_exporter": "python",
   "pygments_lexer": "ipython3",
   "version": "3.8.8"
  }
 },
 "nbformat": 4,
 "nbformat_minor": 5
}
